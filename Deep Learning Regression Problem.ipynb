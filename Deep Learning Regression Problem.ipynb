{
  "nbformat": 4,
  "nbformat_minor": 0,
  "metadata": {
    "colab": {
      "name": "Assignment 1 - Energy Prediction",
      "provenance": [],
      "collapsed_sections": []
    },
    "kernelspec": {
      "name": "python3",
      "display_name": "Python 3"
    }
  },
  "cells": [
    {
      "cell_type": "markdown",
      "metadata": {
        "id": "8khJO9kKVhAT",
        "colab_type": "text"
      },
      "source": [
        "**ENERGY PREDICTION**"
      ]
    },
    {
      "cell_type": "markdown",
      "metadata": {
        "id": "LCalj3ViVre7",
        "colab_type": "text"
      },
      "source": [
        "**LINEAR REGRESSION**"
      ]
    },
    {
      "cell_type": "markdown",
      "metadata": {
        "id": "vPHs6C7HVnxS",
        "colab_type": "text"
      },
      "source": [
        ""
      ]
    },
    {
      "cell_type": "code",
      "metadata": {
        "id": "l72NkzX-VJ1W",
        "colab_type": "code",
        "colab": {}
      },
      "source": [
        "\n",
        "#Importing a dataset\n",
        "import pandas as pd\n",
        "df = pd.read_csv('energydata_complete.csv')"
      ],
      "execution_count": 0,
      "outputs": []
    },
    {
      "cell_type": "code",
      "metadata": {
        "id": "xm3W6RFUG-ZH",
        "colab_type": "code",
        "outputId": "4933fe80-3e7e-473c-cb5c-e9519bb4c528",
        "colab": {
          "base_uri": "https://localhost:8080/",
          "height": 595
        }
      },
      "source": [
        "# Getting info about the variables\n",
        "df.info()"
      ],
      "execution_count": 0,
      "outputs": [
        {
          "output_type": "stream",
          "text": [
            "<class 'pandas.core.frame.DataFrame'>\n",
            "RangeIndex: 19735 entries, 0 to 19734\n",
            "Data columns (total 29 columns):\n",
            "date           19735 non-null object\n",
            "Appliances     19735 non-null int64\n",
            "lights         19735 non-null int64\n",
            "T1             19735 non-null float64\n",
            "RH_1           19735 non-null float64\n",
            "T2             19735 non-null float64\n",
            "RH_2           19735 non-null float64\n",
            "T3             19735 non-null float64\n",
            "RH_3           19735 non-null float64\n",
            "T4             19735 non-null float64\n",
            "RH_4           19735 non-null float64\n",
            "T5             19735 non-null float64\n",
            "RH_5           19735 non-null float64\n",
            "T6             19735 non-null float64\n",
            "RH_6           19735 non-null float64\n",
            "T7             19735 non-null float64\n",
            "RH_7           19735 non-null float64\n",
            "T8             19735 non-null float64\n",
            "RH_8           19735 non-null float64\n",
            "T9             19735 non-null float64\n",
            "RH_9           19735 non-null float64\n",
            "T_out          19735 non-null float64\n",
            "Press_mm_hg    19735 non-null float64\n",
            "RH_out         19735 non-null float64\n",
            "Windspeed      19735 non-null float64\n",
            "Visibility     19735 non-null float64\n",
            "Tdewpoint      19735 non-null float64\n",
            "rv1            19735 non-null float64\n",
            "rv2            19735 non-null float64\n",
            "dtypes: float64(26), int64(2), object(1)\n",
            "memory usage: 4.4+ MB\n"
          ],
          "name": "stdout"
        }
      ]
    },
    {
      "cell_type": "code",
      "metadata": {
        "id": "qYS5vD8QG-if",
        "colab_type": "code",
        "outputId": "852b3756-7417-41be-f23a-aa1eb5f69166",
        "colab": {
          "base_uri": "https://localhost:8080/",
          "height": 102
        }
      },
      "source": [
        "#Column Names\n",
        "df.columns"
      ],
      "execution_count": 0,
      "outputs": [
        {
          "output_type": "execute_result",
          "data": {
            "text/plain": [
              "Index(['date', 'Appliances', 'lights', 'T1', 'RH_1', 'T2', 'RH_2', 'T3',\n",
              "       'RH_3', 'T4', 'RH_4', 'T5', 'RH_5', 'T6', 'RH_6', 'T7', 'RH_7', 'T8',\n",
              "       'RH_8', 'T9', 'RH_9', 'T_out', 'Press_mm_hg', 'RH_out', 'Windspeed',\n",
              "       'Visibility', 'Tdewpoint', 'rv1', 'rv2'],\n",
              "      dtype='object')"
            ]
          },
          "metadata": {
            "tags": []
          },
          "execution_count": 4
        }
      ]
    },
    {
      "cell_type": "code",
      "metadata": {
        "id": "11bESfpQG-sM",
        "colab_type": "code",
        "outputId": "aa1e8790-8263-4cfb-9ce2-8ad64219422e",
        "colab": {
          "base_uri": "https://localhost:8080/",
          "height": 948
        }
      },
      "source": [
        "#Missing Value Count\n",
        "total=df.isnull().sum().sort_values(ascending=False)\n",
        "per=df.isnull().sum()/df.isnull().count()*100\n",
        "percentage=(round(per,2)).sort_values(ascending=False)\n",
        "missing_data=pd.concat([total,percentage],axis=1,keys=['Total','%'])\n",
        "missing_data"
      ],
      "execution_count": 0,
      "outputs": [
        {
          "output_type": "execute_result",
          "data": {
            "text/html": [
              "<div>\n",
              "<style scoped>\n",
              "    .dataframe tbody tr th:only-of-type {\n",
              "        vertical-align: middle;\n",
              "    }\n",
              "\n",
              "    .dataframe tbody tr th {\n",
              "        vertical-align: top;\n",
              "    }\n",
              "\n",
              "    .dataframe thead th {\n",
              "        text-align: right;\n",
              "    }\n",
              "</style>\n",
              "<table border=\"1\" class=\"dataframe\">\n",
              "  <thead>\n",
              "    <tr style=\"text-align: right;\">\n",
              "      <th></th>\n",
              "      <th>Total</th>\n",
              "      <th>%</th>\n",
              "    </tr>\n",
              "  </thead>\n",
              "  <tbody>\n",
              "    <tr>\n",
              "      <th>rv2</th>\n",
              "      <td>0</td>\n",
              "      <td>0.0</td>\n",
              "    </tr>\n",
              "    <tr>\n",
              "      <th>T6</th>\n",
              "      <td>0</td>\n",
              "      <td>0.0</td>\n",
              "    </tr>\n",
              "    <tr>\n",
              "      <th>Appliances</th>\n",
              "      <td>0</td>\n",
              "      <td>0.0</td>\n",
              "    </tr>\n",
              "    <tr>\n",
              "      <th>lights</th>\n",
              "      <td>0</td>\n",
              "      <td>0.0</td>\n",
              "    </tr>\n",
              "    <tr>\n",
              "      <th>T1</th>\n",
              "      <td>0</td>\n",
              "      <td>0.0</td>\n",
              "    </tr>\n",
              "    <tr>\n",
              "      <th>RH_1</th>\n",
              "      <td>0</td>\n",
              "      <td>0.0</td>\n",
              "    </tr>\n",
              "    <tr>\n",
              "      <th>T2</th>\n",
              "      <td>0</td>\n",
              "      <td>0.0</td>\n",
              "    </tr>\n",
              "    <tr>\n",
              "      <th>RH_2</th>\n",
              "      <td>0</td>\n",
              "      <td>0.0</td>\n",
              "    </tr>\n",
              "    <tr>\n",
              "      <th>T3</th>\n",
              "      <td>0</td>\n",
              "      <td>0.0</td>\n",
              "    </tr>\n",
              "    <tr>\n",
              "      <th>RH_3</th>\n",
              "      <td>0</td>\n",
              "      <td>0.0</td>\n",
              "    </tr>\n",
              "    <tr>\n",
              "      <th>T4</th>\n",
              "      <td>0</td>\n",
              "      <td>0.0</td>\n",
              "    </tr>\n",
              "    <tr>\n",
              "      <th>RH_4</th>\n",
              "      <td>0</td>\n",
              "      <td>0.0</td>\n",
              "    </tr>\n",
              "    <tr>\n",
              "      <th>T5</th>\n",
              "      <td>0</td>\n",
              "      <td>0.0</td>\n",
              "    </tr>\n",
              "    <tr>\n",
              "      <th>RH_5</th>\n",
              "      <td>0</td>\n",
              "      <td>0.0</td>\n",
              "    </tr>\n",
              "    <tr>\n",
              "      <th>RH_6</th>\n",
              "      <td>0</td>\n",
              "      <td>0.0</td>\n",
              "    </tr>\n",
              "    <tr>\n",
              "      <th>rv1</th>\n",
              "      <td>0</td>\n",
              "      <td>0.0</td>\n",
              "    </tr>\n",
              "    <tr>\n",
              "      <th>T7</th>\n",
              "      <td>0</td>\n",
              "      <td>0.0</td>\n",
              "    </tr>\n",
              "    <tr>\n",
              "      <th>RH_7</th>\n",
              "      <td>0</td>\n",
              "      <td>0.0</td>\n",
              "    </tr>\n",
              "    <tr>\n",
              "      <th>T8</th>\n",
              "      <td>0</td>\n",
              "      <td>0.0</td>\n",
              "    </tr>\n",
              "    <tr>\n",
              "      <th>RH_8</th>\n",
              "      <td>0</td>\n",
              "      <td>0.0</td>\n",
              "    </tr>\n",
              "    <tr>\n",
              "      <th>T9</th>\n",
              "      <td>0</td>\n",
              "      <td>0.0</td>\n",
              "    </tr>\n",
              "    <tr>\n",
              "      <th>RH_9</th>\n",
              "      <td>0</td>\n",
              "      <td>0.0</td>\n",
              "    </tr>\n",
              "    <tr>\n",
              "      <th>T_out</th>\n",
              "      <td>0</td>\n",
              "      <td>0.0</td>\n",
              "    </tr>\n",
              "    <tr>\n",
              "      <th>Press_mm_hg</th>\n",
              "      <td>0</td>\n",
              "      <td>0.0</td>\n",
              "    </tr>\n",
              "    <tr>\n",
              "      <th>RH_out</th>\n",
              "      <td>0</td>\n",
              "      <td>0.0</td>\n",
              "    </tr>\n",
              "    <tr>\n",
              "      <th>Windspeed</th>\n",
              "      <td>0</td>\n",
              "      <td>0.0</td>\n",
              "    </tr>\n",
              "    <tr>\n",
              "      <th>Visibility</th>\n",
              "      <td>0</td>\n",
              "      <td>0.0</td>\n",
              "    </tr>\n",
              "    <tr>\n",
              "      <th>Tdewpoint</th>\n",
              "      <td>0</td>\n",
              "      <td>0.0</td>\n",
              "    </tr>\n",
              "    <tr>\n",
              "      <th>date</th>\n",
              "      <td>0</td>\n",
              "      <td>0.0</td>\n",
              "    </tr>\n",
              "  </tbody>\n",
              "</table>\n",
              "</div>"
            ],
            "text/plain": [
              "             Total    %\n",
              "rv2              0  0.0\n",
              "T6               0  0.0\n",
              "Appliances       0  0.0\n",
              "lights           0  0.0\n",
              "T1               0  0.0\n",
              "RH_1             0  0.0\n",
              "T2               0  0.0\n",
              "RH_2             0  0.0\n",
              "T3               0  0.0\n",
              "RH_3             0  0.0\n",
              "T4               0  0.0\n",
              "RH_4             0  0.0\n",
              "T5               0  0.0\n",
              "RH_5             0  0.0\n",
              "RH_6             0  0.0\n",
              "rv1              0  0.0\n",
              "T7               0  0.0\n",
              "RH_7             0  0.0\n",
              "T8               0  0.0\n",
              "RH_8             0  0.0\n",
              "T9               0  0.0\n",
              "RH_9             0  0.0\n",
              "T_out            0  0.0\n",
              "Press_mm_hg      0  0.0\n",
              "RH_out           0  0.0\n",
              "Windspeed        0  0.0\n",
              "Visibility       0  0.0\n",
              "Tdewpoint        0  0.0\n",
              "date             0  0.0"
            ]
          },
          "metadata": {
            "tags": []
          },
          "execution_count": 5
        }
      ]
    },
    {
      "cell_type": "code",
      "metadata": {
        "id": "xjanFan7G-y-",
        "colab_type": "code",
        "colab": {}
      },
      "source": [
        "#Dropping the random variable1\n",
        "df = df.drop('rv1', axis = 1)"
      ],
      "execution_count": 0,
      "outputs": []
    },
    {
      "cell_type": "code",
      "metadata": {
        "id": "mDSdQsspG-5S",
        "colab_type": "code",
        "colab": {}
      },
      "source": [
        "#Dropping the random variable 2\n",
        "df = df.drop('rv2', axis = 1)"
      ],
      "execution_count": 0,
      "outputs": []
    },
    {
      "cell_type": "code",
      "metadata": {
        "id": "zE7mKEKuIItS",
        "colab_type": "code",
        "colab": {}
      },
      "source": [
        "#Dropping the date variable from the dataframe\n",
        "df = df.drop('date', axis = 1)"
      ],
      "execution_count": 0,
      "outputs": []
    },
    {
      "cell_type": "code",
      "metadata": {
        "id": "Ritmv4F7IIkH",
        "colab_type": "code",
        "colab": {}
      },
      "source": [
        "# Getting the target variable\n",
        "y = df.pop('Appliances')"
      ],
      "execution_count": 0,
      "outputs": []
    },
    {
      "cell_type": "code",
      "metadata": {
        "id": "VIR-enKpIIht",
        "colab_type": "code",
        "colab": {}
      },
      "source": [
        "# Listing independent variable\n",
        "x = df[['lights', 'T1', 'RH_1', 'T2', 'RH_2', 'T3', 'RH_3', 'T4',\n",
        "       'RH_4', 'T5', 'RH_5', 'T6', 'RH_6', 'T7', 'RH_7', 'T8', 'RH_8', 'T9',\n",
        "       'RH_9', 'T_out', 'Press_mm_hg', 'RH_out', 'Windspeed', 'Visibility',\n",
        "       'Tdewpoint']]\n",
        "       "
      ],
      "execution_count": 0,
      "outputs": []
    },
    {
      "cell_type": "code",
      "metadata": {
        "id": "70w-teHlIIer",
        "colab_type": "code",
        "colab": {}
      },
      "source": [
        "# Splitting dataframe into test and train dataframe\n",
        "from sklearn.model_selection import train_test_split"
      ],
      "execution_count": 0,
      "outputs": []
    },
    {
      "cell_type": "code",
      "metadata": {
        "id": "9I-DSv89JkbP",
        "colab_type": "code",
        "colab": {}
      },
      "source": [
        "xtrain,xtest, ytrain, ytest = train_test_split(x,y,test_size=0.30,random_state=1234)"
      ],
      "execution_count": 0,
      "outputs": []
    },
    {
      "cell_type": "code",
      "metadata": {
        "id": "dYW--r1FJksl",
        "colab_type": "code",
        "outputId": "460f8f11-798c-4556-c369-b5b909c133d9",
        "colab": {
          "base_uri": "https://localhost:8080/",
          "height": 34
        }
      },
      "source": [
        "xtrain.shape, ytrain.shape, xtest.shape, ytest.shape"
      ],
      "execution_count": 0,
      "outputs": [
        {
          "output_type": "execute_result",
          "data": {
            "text/plain": [
              "((13814, 25), (13814,), (5921, 25), (5921,))"
            ]
          },
          "metadata": {
            "tags": []
          },
          "execution_count": 16
        }
      ]
    },
    {
      "cell_type": "code",
      "metadata": {
        "id": "0w9VyfvYnuv0",
        "colab_type": "code",
        "colab": {}
      },
      "source": [
        "# Import packages\n",
        "import numpy as np\n",
        "import pandas as pd\n",
        "import sklearn\n",
        "import seaborn as sns\n",
        "import matplotlib.pyplot as plt\n",
        "%matplotlib inline"
      ],
      "execution_count": 0,
      "outputs": []
    },
    {
      "cell_type": "code",
      "metadata": {
        "id": "Eb5pY1mInGrJ",
        "colab_type": "code",
        "outputId": "82843389-2322-4e6c-952c-e1c36517a5bc",
        "colab": {
          "base_uri": "https://localhost:8080/",
          "height": 34
        }
      },
      "source": [
        "#let's import the regression object and define model\n",
        "from sklearn.linear_model import LinearRegression\n",
        "lm=LinearRegression()\n",
        "lm"
      ],
      "execution_count": 0,
      "outputs": [
        {
          "output_type": "execute_result",
          "data": {
            "text/plain": [
              "LinearRegression(copy_X=True, fit_intercept=True, n_jobs=None, normalize=False)"
            ]
          },
          "metadata": {
            "tags": []
          },
          "execution_count": 18
        }
      ]
    },
    {
      "cell_type": "code",
      "metadata": {
        "id": "Dx9PFJ-MnGyL",
        "colab_type": "code",
        "outputId": "dc2e6009-b98c-4722-833a-dd58ecc71033",
        "colab": {
          "base_uri": "https://localhost:8080/",
          "height": 34
        }
      },
      "source": [
        "#Fit a model into train data\n",
        "lm.fit(xtrain,ytrain)"
      ],
      "execution_count": 0,
      "outputs": [
        {
          "output_type": "execute_result",
          "data": {
            "text/plain": [
              "LinearRegression(copy_X=True, fit_intercept=True, n_jobs=None, normalize=False)"
            ]
          },
          "metadata": {
            "tags": []
          },
          "execution_count": 19
        }
      ]
    },
    {
      "cell_type": "code",
      "metadata": {
        "id": "wKNwL0P3m5aG",
        "colab_type": "code",
        "colab": {}
      },
      "source": [
        "#Evaluate the model\n",
        "predict_test=lm.predict(xtest)"
      ],
      "execution_count": 0,
      "outputs": []
    },
    {
      "cell_type": "code",
      "metadata": {
        "id": "aE88e3q9m5Xs",
        "colab_type": "code",
        "outputId": "237bb8c9-90ef-44fc-adcf-158d0280b3c0",
        "colab": {
          "base_uri": "https://localhost:8080/",
          "height": 51
        }
      },
      "source": [
        "#R2 Value\n",
        "print(\"RSquare Value for TEST data is-\")\n",
        "np.round(lm.score(xtest,ytest)*100,0)"
      ],
      "execution_count": 0,
      "outputs": [
        {
          "output_type": "stream",
          "text": [
            "RSquare Value for TEST data is-\n"
          ],
          "name": "stdout"
        },
        {
          "output_type": "execute_result",
          "data": {
            "text/plain": [
              "17.0"
            ]
          },
          "metadata": {
            "tags": []
          },
          "execution_count": 21
        }
      ]
    },
    {
      "cell_type": "code",
      "metadata": {
        "id": "D05cLkr2m5VK",
        "colab_type": "code",
        "outputId": "1cdce3fd-b4dc-42b0-dacd-88adf5381f5d",
        "colab": {
          "base_uri": "https://localhost:8080/",
          "height": 51
        }
      },
      "source": [
        "print(\"RSquare Value for TRAIN data is-\")\n",
        "np.round(lm.score(xtrain,ytrain)*100,0)"
      ],
      "execution_count": 0,
      "outputs": [
        {
          "output_type": "stream",
          "text": [
            "RSquare Value for TRAIN data is-\n"
          ],
          "name": "stdout"
        },
        {
          "output_type": "execute_result",
          "data": {
            "text/plain": [
              "16.0"
            ]
          },
          "metadata": {
            "tags": []
          },
          "execution_count": 22
        }
      ]
    },
    {
      "cell_type": "code",
      "metadata": {
        "id": "_-jXmbRym5Sg",
        "colab_type": "code",
        "colab": {}
      },
      "source": [
        "# Predict on test and training data\n",
        "predict_test=lm.predict(xtest)"
      ],
      "execution_count": 0,
      "outputs": []
    },
    {
      "cell_type": "code",
      "metadata": {
        "id": "g4D28ewcm5O3",
        "colab_type": "code",
        "outputId": "5d98af7d-ac85-47ed-d98e-9d339236376b",
        "colab": {
          "base_uri": "https://localhost:8080/",
          "height": 51
        }
      },
      "source": [
        "#Print the loss Function-MSE\n",
        "import numpy as np\n",
        "from sklearn import metrics\n",
        "print (\"Mean Square Error(MSE)for TEST data is\")\n",
        "np.round(metrics.mean_squared_error(ytest,predict_test),0)"
      ],
      "execution_count": 0,
      "outputs": [
        {
          "output_type": "stream",
          "text": [
            "Mean Square Error(MSE)for TEST data is\n"
          ],
          "name": "stdout"
        },
        {
          "output_type": "execute_result",
          "data": {
            "text/plain": [
              "8523.0"
            ]
          },
          "metadata": {
            "tags": []
          },
          "execution_count": 24
        }
      ]
    },
    {
      "cell_type": "code",
      "metadata": {
        "id": "OmtixKGVoU4i",
        "colab_type": "code",
        "outputId": "49947fea-fa92-4595-9d88-0ce1d76c2815",
        "colab": {
          "base_uri": "https://localhost:8080/",
          "height": 51
        }
      },
      "source": [
        "from sklearn.metrics import mean_absolute_error\n",
        "print(\"Mean Absolute Error(MAE) for TEST data is\")\n",
        "np.round(mean_absolute_error(ytest,predict_test),0)"
      ],
      "execution_count": 0,
      "outputs": [
        {
          "output_type": "stream",
          "text": [
            "Mean Absolute Error(MAE) for TEST data is\n"
          ],
          "name": "stdout"
        },
        {
          "output_type": "execute_result",
          "data": {
            "text/plain": [
              "52.0"
            ]
          },
          "metadata": {
            "tags": []
          },
          "execution_count": 27
        }
      ]
    },
    {
      "cell_type": "code",
      "metadata": {
        "id": "DBgQpbl1pEql",
        "colab_type": "code",
        "outputId": "649ded9c-2385-4f61-a936-36b1ee13e668",
        "colab": {
          "base_uri": "https://localhost:8080/",
          "height": 224
        }
      },
      "source": [
        "#Append Data\n",
        "fdf=pd.concat([xtest,ytest],1)\n",
        "fdf['Predicted']=np.round(predict_test,1)\n",
        "fdf['Prediction_Error']=fdf['Appliances']-fdf['Predicted']\n",
        "fdf.head()"
      ],
      "execution_count": 0,
      "outputs": [
        {
          "output_type": "execute_result",
          "data": {
            "text/html": [
              "<div>\n",
              "<style scoped>\n",
              "    .dataframe tbody tr th:only-of-type {\n",
              "        vertical-align: middle;\n",
              "    }\n",
              "\n",
              "    .dataframe tbody tr th {\n",
              "        vertical-align: top;\n",
              "    }\n",
              "\n",
              "    .dataframe thead th {\n",
              "        text-align: right;\n",
              "    }\n",
              "</style>\n",
              "<table border=\"1\" class=\"dataframe\">\n",
              "  <thead>\n",
              "    <tr style=\"text-align: right;\">\n",
              "      <th></th>\n",
              "      <th>lights</th>\n",
              "      <th>T1</th>\n",
              "      <th>RH_1</th>\n",
              "      <th>T2</th>\n",
              "      <th>RH_2</th>\n",
              "      <th>T3</th>\n",
              "      <th>RH_3</th>\n",
              "      <th>T4</th>\n",
              "      <th>RH_4</th>\n",
              "      <th>T5</th>\n",
              "      <th>RH_5</th>\n",
              "      <th>T6</th>\n",
              "      <th>RH_6</th>\n",
              "      <th>T7</th>\n",
              "      <th>RH_7</th>\n",
              "      <th>T8</th>\n",
              "      <th>RH_8</th>\n",
              "      <th>T9</th>\n",
              "      <th>RH_9</th>\n",
              "      <th>T_out</th>\n",
              "      <th>Press_mm_hg</th>\n",
              "      <th>RH_out</th>\n",
              "      <th>Windspeed</th>\n",
              "      <th>Visibility</th>\n",
              "      <th>Tdewpoint</th>\n",
              "      <th>Appliances</th>\n",
              "      <th>Predicted</th>\n",
              "      <th>Prediction_Error</th>\n",
              "    </tr>\n",
              "  </thead>\n",
              "  <tbody>\n",
              "    <tr>\n",
              "      <th>13095</th>\n",
              "      <td>0</td>\n",
              "      <td>22.500000</td>\n",
              "      <td>40.333333</td>\n",
              "      <td>22.790</td>\n",
              "      <td>37.863333</td>\n",
              "      <td>23.1000</td>\n",
              "      <td>38.400000</td>\n",
              "      <td>22.100000</td>\n",
              "      <td>39.730000</td>\n",
              "      <td>20.934</td>\n",
              "      <td>44.200000</td>\n",
              "      <td>17.366667</td>\n",
              "      <td>18.100000</td>\n",
              "      <td>22.033333</td>\n",
              "      <td>36.36</td>\n",
              "      <td>23.412000</td>\n",
              "      <td>41.894000</td>\n",
              "      <td>21.00</td>\n",
              "      <td>40.490000</td>\n",
              "      <td>16.150000</td>\n",
              "      <td>750.550000</td>\n",
              "      <td>59.500000</td>\n",
              "      <td>6.500000</td>\n",
              "      <td>40.0</td>\n",
              "      <td>8.000000</td>\n",
              "      <td>90</td>\n",
              "      <td>102.7</td>\n",
              "      <td>-12.7</td>\n",
              "    </tr>\n",
              "    <tr>\n",
              "      <th>18136</th>\n",
              "      <td>0</td>\n",
              "      <td>23.666667</td>\n",
              "      <td>37.963333</td>\n",
              "      <td>22.772</td>\n",
              "      <td>32.530000</td>\n",
              "      <td>23.9560</td>\n",
              "      <td>33.900000</td>\n",
              "      <td>23.500000</td>\n",
              "      <td>33.260000</td>\n",
              "      <td>22.700</td>\n",
              "      <td>38.500000</td>\n",
              "      <td>18.260000</td>\n",
              "      <td>1.000000</td>\n",
              "      <td>23.790000</td>\n",
              "      <td>28.79</td>\n",
              "      <td>25.157143</td>\n",
              "      <td>34.898571</td>\n",
              "      <td>22.89</td>\n",
              "      <td>39.236000</td>\n",
              "      <td>13.466667</td>\n",
              "      <td>760.700000</td>\n",
              "      <td>53.000000</td>\n",
              "      <td>1.666667</td>\n",
              "      <td>40.0</td>\n",
              "      <td>4.033333</td>\n",
              "      <td>100</td>\n",
              "      <td>180.4</td>\n",
              "      <td>-80.4</td>\n",
              "    </tr>\n",
              "    <tr>\n",
              "      <th>7721</th>\n",
              "      <td>0</td>\n",
              "      <td>19.890000</td>\n",
              "      <td>37.326667</td>\n",
              "      <td>17.200</td>\n",
              "      <td>40.700000</td>\n",
              "      <td>20.8900</td>\n",
              "      <td>38.000000</td>\n",
              "      <td>18.426667</td>\n",
              "      <td>36.500000</td>\n",
              "      <td>18.290</td>\n",
              "      <td>43.290000</td>\n",
              "      <td>1.900000</td>\n",
              "      <td>79.333333</td>\n",
              "      <td>18.290000</td>\n",
              "      <td>32.56</td>\n",
              "      <td>20.700000</td>\n",
              "      <td>43.700000</td>\n",
              "      <td>18.39</td>\n",
              "      <td>41.626667</td>\n",
              "      <td>1.200000</td>\n",
              "      <td>741.066667</td>\n",
              "      <td>96.833333</td>\n",
              "      <td>1.000000</td>\n",
              "      <td>36.0</td>\n",
              "      <td>0.766667</td>\n",
              "      <td>30</td>\n",
              "      <td>59.8</td>\n",
              "      <td>-29.8</td>\n",
              "    </tr>\n",
              "    <tr>\n",
              "      <th>9755</th>\n",
              "      <td>0</td>\n",
              "      <td>20.890000</td>\n",
              "      <td>36.826667</td>\n",
              "      <td>18.200</td>\n",
              "      <td>39.826667</td>\n",
              "      <td>21.2675</td>\n",
              "      <td>36.267500</td>\n",
              "      <td>19.600000</td>\n",
              "      <td>34.590000</td>\n",
              "      <td>18.290</td>\n",
              "      <td>45.030000</td>\n",
              "      <td>6.760000</td>\n",
              "      <td>45.933333</td>\n",
              "      <td>19.290000</td>\n",
              "      <td>30.20</td>\n",
              "      <td>21.666667</td>\n",
              "      <td>40.526667</td>\n",
              "      <td>19.50</td>\n",
              "      <td>38.126667</td>\n",
              "      <td>5.533333</td>\n",
              "      <td>762.683333</td>\n",
              "      <td>80.166667</td>\n",
              "      <td>3.000000</td>\n",
              "      <td>62.0</td>\n",
              "      <td>2.283333</td>\n",
              "      <td>190</td>\n",
              "      <td>72.7</td>\n",
              "      <td>117.3</td>\n",
              "    </tr>\n",
              "    <tr>\n",
              "      <th>4134</th>\n",
              "      <td>0</td>\n",
              "      <td>21.290000</td>\n",
              "      <td>43.450000</td>\n",
              "      <td>20.600</td>\n",
              "      <td>42.126667</td>\n",
              "      <td>22.2900</td>\n",
              "      <td>41.626667</td>\n",
              "      <td>20.100000</td>\n",
              "      <td>43.326667</td>\n",
              "      <td>20.000</td>\n",
              "      <td>46.433333</td>\n",
              "      <td>6.000000</td>\n",
              "      <td>88.366667</td>\n",
              "      <td>18.790000</td>\n",
              "      <td>37.70</td>\n",
              "      <td>21.280000</td>\n",
              "      <td>50.437778</td>\n",
              "      <td>19.00</td>\n",
              "      <td>44.963333</td>\n",
              "      <td>5.500000</td>\n",
              "      <td>736.000000</td>\n",
              "      <td>93.000000</td>\n",
              "      <td>4.000000</td>\n",
              "      <td>63.0</td>\n",
              "      <td>4.500000</td>\n",
              "      <td>60</td>\n",
              "      <td>89.7</td>\n",
              "      <td>-29.7</td>\n",
              "    </tr>\n",
              "  </tbody>\n",
              "</table>\n",
              "</div>"
            ],
            "text/plain": [
              "       lights         T1       RH_1  ...  Appliances  Predicted  Prediction_Error\n",
              "13095       0  22.500000  40.333333  ...          90      102.7             -12.7\n",
              "18136       0  23.666667  37.963333  ...         100      180.4             -80.4\n",
              "7721        0  19.890000  37.326667  ...          30       59.8             -29.8\n",
              "9755        0  20.890000  36.826667  ...         190       72.7             117.3\n",
              "4134        0  21.290000  43.450000  ...          60       89.7             -29.7\n",
              "\n",
              "[5 rows x 28 columns]"
            ]
          },
          "metadata": {
            "tags": []
          },
          "execution_count": 28
        }
      ]
    },
    {
      "cell_type": "code",
      "metadata": {
        "id": "wNyMzBigplng",
        "colab_type": "code",
        "outputId": "094d7dab-d213-4a42-843f-fb04f21611d2",
        "colab": {
          "base_uri": "https://localhost:8080/",
          "height": 1000
        }
      },
      "source": [
        "#Plotting Error versus actual values\n",
        "plt.subplots(figsize=(20,20))\n",
        "plt.scatter(fdf.Appliances,fdf.Prediction_Error,color='red')\n",
        "plt.xlabel('Appliance')\n",
        "plt.ylabel(\"Error\")\n",
        "plt.show();"
      ],
      "execution_count": 0,
      "outputs": [
        {
          "output_type": "display_data",
          "data": {
            "image/png": "[encoded data removed]",
            "text/plain": [
              "<Figure size 1440x1440 with 1 Axes>"
            ]
          },
          "metadata": {
            "tags": []
          }
        }
      ]
    },
    {
      "cell_type": "code",
      "metadata": {
        "id": "_TS44Xe5oVSH",
        "colab_type": "code",
        "outputId": "402b062c-6032-4da9-c5d8-2fb8b1ed04bc",
        "colab": {
          "base_uri": "https://localhost:8080/",
          "height": 265
        }
      },
      "source": [
        "# Feature Importance from the linear regression\n",
        "ft_importances =pd.Series(lm.coef_,index=x.columns)\n",
        "ft_importances.plot(kind='barh')\n",
        "plt.show();"
      ],
      "execution_count": 0,
      "outputs": [
        {
          "output_type": "display_data",
          "data": {
            "image/png": "[encoded data removed]",
            "text/plain": [
              "<Figure size 432x288 with 1 Axes>"
            ]
          },
          "metadata": {
            "tags": []
          }
        }
      ]
    },
    {
      "cell_type": "code",
      "metadata": {
        "id": "InFrOqH-oVOD",
        "colab_type": "code",
        "outputId": "65ac02ba-42c7-4d1d-9aa1-f485757ca5dd",
        "colab": {
          "base_uri": "https://localhost:8080/",
          "height": 34
        }
      },
      "source": [
        "len(lm.coef_)"
      ],
      "execution_count": 0,
      "outputs": [
        {
          "output_type": "execute_result",
          "data": {
            "text/plain": [
              "25"
            ]
          },
          "metadata": {
            "tags": []
          },
          "execution_count": 33
        }
      ]
    },
    {
      "cell_type": "markdown",
      "metadata": {
        "id": "iIiPTXzIV3im",
        "colab_type": "text"
      },
      "source": [
        "**NEURAL NETWORK**"
      ]
    },
    {
      "cell_type": "code",
      "metadata": {
        "id": "Ss0RTC3nQ9W3",
        "colab_type": "code",
        "outputId": "525c6034-fe3d-4254-f492-4146c0acc774",
        "colab": {
          "base_uri": "https://localhost:8080/",
          "height": 80
        }
      },
      "source": [
        "# Importing packages\n",
        "from keras.layers import Dense\n",
        "from keras.models import Sequential\n",
        "from matplotlib import pyplot"
      ],
      "execution_count": 0,
      "outputs": [
        {
          "output_type": "stream",
          "text": [
            "Using TensorFlow backend.\n"
          ],
          "name": "stderr"
        },
        {
          "output_type": "display_data",
          "data": {
            "text/html": [
              "<p style=\"color: red;\">\n",
              "The default version of TensorFlow in Colab will soon switch to TensorFlow 2.x.<br>\n",
              "We recommend you <a href=\"https://www.tensorflow.org/guide/migrate\" target=\"_blank\">upgrade</a> now \n",
              "or ensure your notebook will continue to use TensorFlow 1.x via the <code>%tensorflow_version 1.x</code> magic:\n",
              "<a href=\"https://colab.research.google.com/notebooks/tensorflow_version.ipynb\" target=\"_blank\">more info</a>.</p>\n"
            ],
            "text/plain": [
              "<IPython.core.display.HTML object>"
            ]
          },
          "metadata": {
            "tags": []
          }
        }
      ]
    },
    {
      "cell_type": "code",
      "metadata": {
        "id": "Pu7iwYkMJko4",
        "colab_type": "code",
        "outputId": "bce00f01-9101-4b93-8a4c-0a9e40aaf38a",
        "colab": {
          "base_uri": "https://localhost:8080/",
          "height": 173
        }
      },
      "source": [
        "#Initiating and compiling the model\n",
        "model = Sequential()\n",
        "model.add(Dense(500, input_dim=25, activation='relu'))\n",
        "model.add(Dense(250, activation='relu'))\n",
        "model.add(Dense(1, activation = 'linear'))\n",
        "model.compile(loss='mean_squared_error', optimizer='adam', metrics=['mae'])"
      ],
      "execution_count": 0,
      "outputs": [
        {
          "output_type": "stream",
          "text": [
            "WARNING:tensorflow:From /usr/local/lib/python3.6/dist-packages/keras/backend/tensorflow_backend.py:66: The name tf.get_default_graph is deprecated. Please use tf.compat.v1.get_default_graph instead.\n",
            "\n",
            "WARNING:tensorflow:From /usr/local/lib/python3.6/dist-packages/keras/backend/tensorflow_backend.py:541: The name tf.placeholder is deprecated. Please use tf.compat.v1.placeholder instead.\n",
            "\n",
            "WARNING:tensorflow:From /usr/local/lib/python3.6/dist-packages/keras/backend/tensorflow_backend.py:4432: The name tf.random_uniform is deprecated. Please use tf.random.uniform instead.\n",
            "\n",
            "WARNING:tensorflow:From /usr/local/lib/python3.6/dist-packages/keras/optimizers.py:793: The name tf.train.Optimizer is deprecated. Please use tf.compat.v1.train.Optimizer instead.\n",
            "\n"
          ],
          "name": "stdout"
        }
      ]
    },
    {
      "cell_type": "code",
      "metadata": {
        "id": "ZVEdLG4HJklM",
        "colab_type": "code",
        "outputId": "55f41291-de99-44d1-ff4e-fffaac848235",
        "colab": {
          "base_uri": "https://localhost:8080/",
          "height": 309
        }
      },
      "source": [
        "# fit model\n",
        "history = model.fit(xtrain,ytrain, validation_data=(xtrain, ytrain), epochs=3000, verbose=0)"
      ],
      "execution_count": 0,
      "outputs": [
        {
          "output_type": "stream",
          "text": [
            "WARNING:tensorflow:From /usr/local/lib/python3.6/dist-packages/keras/backend/tensorflow_backend.py:1033: The name tf.assign_add is deprecated. Please use tf.compat.v1.assign_add instead.\n",
            "\n",
            "WARNING:tensorflow:From /usr/local/lib/python3.6/dist-packages/keras/backend/tensorflow_backend.py:1020: The name tf.assign is deprecated. Please use tf.compat.v1.assign instead.\n",
            "\n",
            "WARNING:tensorflow:From /usr/local/lib/python3.6/dist-packages/keras/backend/tensorflow_backend.py:3005: The name tf.Session is deprecated. Please use tf.compat.v1.Session instead.\n",
            "\n",
            "WARNING:tensorflow:From /usr/local/lib/python3.6/dist-packages/keras/backend/tensorflow_backend.py:190: The name tf.get_default_session is deprecated. Please use tf.compat.v1.get_default_session instead.\n",
            "\n",
            "WARNING:tensorflow:From /usr/local/lib/python3.6/dist-packages/keras/backend/tensorflow_backend.py:197: The name tf.ConfigProto is deprecated. Please use tf.compat.v1.ConfigProto instead.\n",
            "\n",
            "WARNING:tensorflow:From /usr/local/lib/python3.6/dist-packages/keras/backend/tensorflow_backend.py:207: The name tf.global_variables is deprecated. Please use tf.compat.v1.global_variables instead.\n",
            "\n",
            "WARNING:tensorflow:From /usr/local/lib/python3.6/dist-packages/keras/backend/tensorflow_backend.py:216: The name tf.is_variable_initialized is deprecated. Please use tf.compat.v1.is_variable_initialized instead.\n",
            "\n",
            "WARNING:tensorflow:From /usr/local/lib/python3.6/dist-packages/keras/backend/tensorflow_backend.py:223: The name tf.variables_initializer is deprecated. Please use tf.compat.v1.variables_initializer instead.\n",
            "\n"
          ],
          "name": "stdout"
        }
      ]
    },
    {
      "cell_type": "code",
      "metadata": {
        "id": "VxquTWZsIIY2",
        "colab_type": "code",
        "outputId": "dcba9e04-209e-4df1-8ab2-5de255ec6ebf",
        "colab": {
          "base_uri": "https://localhost:8080/",
          "height": 267
        }
      },
      "source": [
        "# plot training history\n",
        "pyplot.plot(history.history['loss'], label='train')\n",
        "pyplot.plot(history.history['val_loss'], label='test')\n",
        "pyplot.legend()\n",
        "pyplot.show()"
      ],
      "execution_count": 0,
      "outputs": [
        {
          "output_type": "display_data",
          "data": {
            "image/png": "[encoded data removed]",
            "text/plain": [
              "<Figure size 432x288 with 1 Axes>"
            ]
          },
          "metadata": {
            "tags": []
          }
        }
      ]
    },
    {
      "cell_type": "code",
      "metadata": {
        "id": "Pl5als32SgC6",
        "colab_type": "code",
        "colab": {}
      },
      "source": [
        "# Getting the predicited values from neural network\n",
        "predictions = model.predict(xtest)"
      ],
      "execution_count": 0,
      "outputs": []
    },
    {
      "cell_type": "code",
      "metadata": {
        "id": "n1g6P1tq7p1c",
        "colab_type": "code",
        "outputId": "677f8604-6a4b-4842-afd1-6b8f42f69189",
        "colab": {
          "base_uri": "https://localhost:8080/",
          "height": 34
        }
      },
      "source": [
        "# Mean Square Error\n",
        "from sklearn.metrics import mean_squared_error\n",
        "mse = mean_squared_error(ytest, predictions)\n",
        "mse"
      ],
      "execution_count": 0,
      "outputs": [
        {
          "output_type": "execute_result",
          "data": {
            "text/plain": [
              "6902.2033139431405"
            ]
          },
          "metadata": {
            "tags": []
          },
          "execution_count": 51
        }
      ]
    },
    {
      "cell_type": "code",
      "metadata": {
        "id": "8ylEMOoXUBNp",
        "colab_type": "code",
        "outputId": "ca4a603c-18b0-4034-af5c-5a4e9175d2f0",
        "colab": {
          "base_uri": "https://localhost:8080/",
          "height": 34
        }
      },
      "source": [
        "# Mean Absolute Error\n",
        "from sklearn.metrics import mean_absolute_error\n",
        "mean_absolute_error(ytest, predictions)"
      ],
      "execution_count": 0,
      "outputs": [
        {
          "output_type": "execute_result",
          "data": {
            "text/plain": [
              "46.535714296387816"
            ]
          },
          "metadata": {
            "tags": []
          },
          "execution_count": 53
        }
      ]
    },
    {
      "cell_type": "code",
      "metadata": {
        "id": "n0uacC3rUBg2",
        "colab_type": "code",
        "outputId": "288756a4-ffc3-4e99-c2e8-eca4869b8f1c",
        "colab": {
          "base_uri": "https://localhost:8080/",
          "height": 34
        }
      },
      "source": [
        "# Variance Explained by the model\n",
        "from sklearn.metrics import explained_variance_score\n",
        "explained_variance_score(ytest,  predictions)"
      ],
      "execution_count": 0,
      "outputs": [
        {
          "output_type": "execute_result",
          "data": {
            "text/plain": [
              "0.32447632550783867"
            ]
          },
          "metadata": {
            "tags": []
          },
          "execution_count": 52
        }
      ]
    },
    {
      "cell_type": "markdown",
      "metadata": {
        "id": "mM3j7x8gV_xS",
        "colab_type": "text"
      },
      "source": [
        "**RANDOM FOREST**"
      ]
    },
    {
      "cell_type": "code",
      "metadata": {
        "id": "qXiBv0pT75A5",
        "colab_type": "code",
        "colab": {}
      },
      "source": [
        "# Import the model we are using\n",
        "from sklearn.ensemble import RandomForestRegressor"
      ],
      "execution_count": 0,
      "outputs": []
    },
    {
      "cell_type": "code",
      "metadata": {
        "id": "9VTdV6n2XlFQ",
        "colab_type": "code",
        "colab": {}
      },
      "source": [
        "# Instantiate model with 1000 decision trees\n",
        "rf = RandomForestRegressor(n_estimators = 250, random_state = 42)"
      ],
      "execution_count": 0,
      "outputs": []
    },
    {
      "cell_type": "code",
      "metadata": {
        "id": "h4qZR9gSXlLc",
        "colab_type": "code",
        "colab": {}
      },
      "source": [
        "# Train the model on training data\n",
        "rf.fit(xtest, ytest);"
      ],
      "execution_count": 0,
      "outputs": []
    },
    {
      "cell_type": "code",
      "metadata": {
        "id": "26bq0TI8XlRR",
        "colab_type": "code",
        "colab": {}
      },
      "source": [
        "# Use the forest's predict method on the test data\n",
        "predictions = rf.predict(xtest)"
      ],
      "execution_count": 0,
      "outputs": []
    },
    {
      "cell_type": "code",
      "metadata": {
        "id": "IdE87G2BXlaE",
        "colab_type": "code",
        "colab": {}
      },
      "source": [
        "# Calculate the absolute errors\n",
        "errors = (predictions - ytest)"
      ],
      "execution_count": 0,
      "outputs": []
    },
    {
      "cell_type": "code",
      "metadata": {
        "id": "OUHOFhwXYAAR",
        "colab_type": "code",
        "outputId": "5b9cadaf-9428-432d-cc67-d488c71e0f3b",
        "colab": {
          "base_uri": "https://localhost:8080/",
          "height": 34
        }
      },
      "source": [
        "# Mean Squared Error\n",
        "from sklearn.metrics import mean_squared_error\n",
        "mse = mean_squared_error(ytest, predictions)\n",
        "mse"
      ],
      "execution_count": 0,
      "outputs": [
        {
          "output_type": "execute_result",
          "data": {
            "text/plain": [
              "881.37861036987"
            ]
          },
          "metadata": {
            "tags": []
          },
          "execution_count": 68
        }
      ]
    },
    {
      "cell_type": "code",
      "metadata": {
        "id": "Cis2DNA0YdVb",
        "colab_type": "code",
        "outputId": "758b8b06-16b1-4148-a4ee-1a09f34c31ef",
        "colab": {
          "base_uri": "https://localhost:8080/",
          "height": 34
        }
      },
      "source": [
        "#Variance Explained by the model\n",
        "from sklearn.metrics import explained_variance_score\n",
        "explained_variance_score(ytest,  predictions)"
      ],
      "execution_count": 0,
      "outputs": [
        {
          "output_type": "execute_result",
          "data": {
            "text/plain": [
              "0.9137424653034356"
            ]
          },
          "metadata": {
            "tags": []
          },
          "execution_count": 69
        }
      ]
    },
    {
      "cell_type": "code",
      "metadata": {
        "id": "-AG30e8YY8VT",
        "colab_type": "code",
        "outputId": "cb562082-26fb-4d8d-91d6-ebd79d509371",
        "colab": {
          "base_uri": "https://localhost:8080/",
          "height": 34
        }
      },
      "source": [
        "#Mean absolute error\n",
        "from sklearn.metrics import mean_absolute_error\n",
        "mean_absolute_error(ytest, predictions)"
      ],
      "execution_count": 0,
      "outputs": [
        {
          "output_type": "execute_result",
          "data": {
            "text/plain": [
              "14.438101672014863"
            ]
          },
          "metadata": {
            "tags": []
          },
          "execution_count": 70
        }
      ]
    }
  ]
}