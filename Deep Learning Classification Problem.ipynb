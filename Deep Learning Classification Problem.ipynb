{
  "nbformat": 4,
  "nbformat_minor": 0,
  "metadata": {
    "colab": {
      "name": "Wine classification Data",
      "provenance": [],
      "collapsed_sections": []
    },
    "kernelspec": {
      "name": "python3",
      "display_name": "Python 3"
    }
  },
  "cells": [
    {
      "cell_type": "code",
      "metadata": {
        "id": "jwfFV89zfl-V",
        "colab_type": "code",
        "colab": {}
      },
      "source": [
        "#Import Packages\n",
        "#Linear Algebra\n",
        "import numpy as np\n",
        "#Data Processing\n",
        "import pandas as pd\n",
        "import sklearn\n",
        "#Data Visualization\n",
        "import seaborn as sns\n",
        "%matplotlib inline\n",
        "import matplotlib.pyplot as plt\n",
        "from sklearn.model_selection import train_test_split\n",
        "from sklearn import metrics\n",
        "from sklearn.metrics import roc_curve,auc,recall_score,precision_score,accuracy_score,f1_score\n",
        "from sklearn.metrics import confusion_matrix,average_precision_score,recall_score\n",
        "from sklearn import svm\n"
      ],
      "execution_count": 0,
      "outputs": []
    },
    {
      "cell_type": "code",
      "metadata": {
        "id": "vf9H6VBOgn6R",
        "colab_type": "code",
        "colab": {}
      },
      "source": [
        "#To print many statements at the same time using below command\n",
        "from IPython.core.interactiveshell import InteractiveShell\n",
        "InteractiveShell.ast_node_interactivity='all'"
      ],
      "execution_count": 0,
      "outputs": []
    },
    {
      "cell_type": "code",
      "metadata": {
        "id": "QMUv7paWgn_l",
        "colab_type": "code",
        "outputId": "6b147141-73c1-41d1-a9e7-7d8ee6719947",
        "colab": {
          "base_uri": "https://localhost:8080/",
          "height": 425
        }
      },
      "source": [
        "# Import datset and create a dataframe\n",
        "df=pd.read_csv(\"winequality-red.csv\")\n",
        "df.head()\n",
        "df.tail()"
      ],
      "execution_count": 0,
      "outputs": [
        {
          "output_type": "execute_result",
          "data": {
            "text/html": [
              "<div>\n",
              "<style scoped>\n",
              "    .dataframe tbody tr th:only-of-type {\n",
              "        vertical-align: middle;\n",
              "    }\n",
              "\n",
              "    .dataframe tbody tr th {\n",
              "        vertical-align: top;\n",
              "    }\n",
              "\n",
              "    .dataframe thead th {\n",
              "        text-align: right;\n",
              "    }\n",
              "</style>\n",
              "<table border=\"1\" class=\"dataframe\">\n",
              "  <thead>\n",
              "    <tr style=\"text-align: right;\">\n",
              "      <th></th>\n",
              "      <th>fixed acidity</th>\n",
              "      <th>volatile acidity</th>\n",
              "      <th>citric acid</th>\n",
              "      <th>residual sugar</th>\n",
              "      <th>chlorides</th>\n",
              "      <th>free sulfur dioxide</th>\n",
              "      <th>total sulfur dioxide</th>\n",
              "      <th>density</th>\n",
              "      <th>pH</th>\n",
              "      <th>sulphates</th>\n",
              "      <th>alcohol</th>\n",
              "      <th>quality</th>\n",
              "    </tr>\n",
              "  </thead>\n",
              "  <tbody>\n",
              "    <tr>\n",
              "      <th>0</th>\n",
              "      <td>7.4</td>\n",
              "      <td>0.70</td>\n",
              "      <td>0.00</td>\n",
              "      <td>1.9</td>\n",
              "      <td>0.076</td>\n",
              "      <td>11.0</td>\n",
              "      <td>34.0</td>\n",
              "      <td>0.9978</td>\n",
              "      <td>3.51</td>\n",
              "      <td>0.56</td>\n",
              "      <td>9.4</td>\n",
              "      <td>5</td>\n",
              "    </tr>\n",
              "    <tr>\n",
              "      <th>1</th>\n",
              "      <td>7.8</td>\n",
              "      <td>0.88</td>\n",
              "      <td>0.00</td>\n",
              "      <td>2.6</td>\n",
              "      <td>0.098</td>\n",
              "      <td>25.0</td>\n",
              "      <td>67.0</td>\n",
              "      <td>0.9968</td>\n",
              "      <td>3.20</td>\n",
              "      <td>0.68</td>\n",
              "      <td>9.8</td>\n",
              "      <td>5</td>\n",
              "    </tr>\n",
              "    <tr>\n",
              "      <th>2</th>\n",
              "      <td>7.8</td>\n",
              "      <td>0.76</td>\n",
              "      <td>0.04</td>\n",
              "      <td>2.3</td>\n",
              "      <td>0.092</td>\n",
              "      <td>15.0</td>\n",
              "      <td>54.0</td>\n",
              "      <td>0.9970</td>\n",
              "      <td>3.26</td>\n",
              "      <td>0.65</td>\n",
              "      <td>9.8</td>\n",
              "      <td>5</td>\n",
              "    </tr>\n",
              "    <tr>\n",
              "      <th>3</th>\n",
              "      <td>11.2</td>\n",
              "      <td>0.28</td>\n",
              "      <td>0.56</td>\n",
              "      <td>1.9</td>\n",
              "      <td>0.075</td>\n",
              "      <td>17.0</td>\n",
              "      <td>60.0</td>\n",
              "      <td>0.9980</td>\n",
              "      <td>3.16</td>\n",
              "      <td>0.58</td>\n",
              "      <td>9.8</td>\n",
              "      <td>6</td>\n",
              "    </tr>\n",
              "    <tr>\n",
              "      <th>4</th>\n",
              "      <td>7.4</td>\n",
              "      <td>0.70</td>\n",
              "      <td>0.00</td>\n",
              "      <td>1.9</td>\n",
              "      <td>0.076</td>\n",
              "      <td>11.0</td>\n",
              "      <td>34.0</td>\n",
              "      <td>0.9978</td>\n",
              "      <td>3.51</td>\n",
              "      <td>0.56</td>\n",
              "      <td>9.4</td>\n",
              "      <td>5</td>\n",
              "    </tr>\n",
              "  </tbody>\n",
              "</table>\n",
              "</div>"
            ],
            "text/plain": [
              "   fixed acidity  volatile acidity  citric acid  ...  sulphates  alcohol  quality\n",
              "0            7.4              0.70         0.00  ...       0.56      9.4        5\n",
              "1            7.8              0.88         0.00  ...       0.68      9.8        5\n",
              "2            7.8              0.76         0.04  ...       0.65      9.8        5\n",
              "3           11.2              0.28         0.56  ...       0.58      9.8        6\n",
              "4            7.4              0.70         0.00  ...       0.56      9.4        5\n",
              "\n",
              "[5 rows x 12 columns]"
            ]
          },
          "metadata": {
            "tags": []
          },
          "execution_count": 187
        },
        {
          "output_type": "execute_result",
          "data": {
            "text/html": [
              "<div>\n",
              "<style scoped>\n",
              "    .dataframe tbody tr th:only-of-type {\n",
              "        vertical-align: middle;\n",
              "    }\n",
              "\n",
              "    .dataframe tbody tr th {\n",
              "        vertical-align: top;\n",
              "    }\n",
              "\n",
              "    .dataframe thead th {\n",
              "        text-align: right;\n",
              "    }\n",
              "</style>\n",
              "<table border=\"1\" class=\"dataframe\">\n",
              "  <thead>\n",
              "    <tr style=\"text-align: right;\">\n",
              "      <th></th>\n",
              "      <th>fixed acidity</th>\n",
              "      <th>volatile acidity</th>\n",
              "      <th>citric acid</th>\n",
              "      <th>residual sugar</th>\n",
              "      <th>chlorides</th>\n",
              "      <th>free sulfur dioxide</th>\n",
              "      <th>total sulfur dioxide</th>\n",
              "      <th>density</th>\n",
              "      <th>pH</th>\n",
              "      <th>sulphates</th>\n",
              "      <th>alcohol</th>\n",
              "      <th>quality</th>\n",
              "    </tr>\n",
              "  </thead>\n",
              "  <tbody>\n",
              "    <tr>\n",
              "      <th>1594</th>\n",
              "      <td>6.2</td>\n",
              "      <td>0.600</td>\n",
              "      <td>0.08</td>\n",
              "      <td>2.0</td>\n",
              "      <td>0.090</td>\n",
              "      <td>32.0</td>\n",
              "      <td>44.0</td>\n",
              "      <td>0.99490</td>\n",
              "      <td>3.45</td>\n",
              "      <td>0.58</td>\n",
              "      <td>10.5</td>\n",
              "      <td>5</td>\n",
              "    </tr>\n",
              "    <tr>\n",
              "      <th>1595</th>\n",
              "      <td>5.9</td>\n",
              "      <td>0.550</td>\n",
              "      <td>0.10</td>\n",
              "      <td>2.2</td>\n",
              "      <td>0.062</td>\n",
              "      <td>39.0</td>\n",
              "      <td>51.0</td>\n",
              "      <td>0.99512</td>\n",
              "      <td>3.52</td>\n",
              "      <td>0.76</td>\n",
              "      <td>11.2</td>\n",
              "      <td>6</td>\n",
              "    </tr>\n",
              "    <tr>\n",
              "      <th>1596</th>\n",
              "      <td>6.3</td>\n",
              "      <td>0.510</td>\n",
              "      <td>0.13</td>\n",
              "      <td>2.3</td>\n",
              "      <td>0.076</td>\n",
              "      <td>29.0</td>\n",
              "      <td>40.0</td>\n",
              "      <td>0.99574</td>\n",
              "      <td>3.42</td>\n",
              "      <td>0.75</td>\n",
              "      <td>11.0</td>\n",
              "      <td>6</td>\n",
              "    </tr>\n",
              "    <tr>\n",
              "      <th>1597</th>\n",
              "      <td>5.9</td>\n",
              "      <td>0.645</td>\n",
              "      <td>0.12</td>\n",
              "      <td>2.0</td>\n",
              "      <td>0.075</td>\n",
              "      <td>32.0</td>\n",
              "      <td>44.0</td>\n",
              "      <td>0.99547</td>\n",
              "      <td>3.57</td>\n",
              "      <td>0.71</td>\n",
              "      <td>10.2</td>\n",
              "      <td>5</td>\n",
              "    </tr>\n",
              "    <tr>\n",
              "      <th>1598</th>\n",
              "      <td>6.0</td>\n",
              "      <td>0.310</td>\n",
              "      <td>0.47</td>\n",
              "      <td>3.6</td>\n",
              "      <td>0.067</td>\n",
              "      <td>18.0</td>\n",
              "      <td>42.0</td>\n",
              "      <td>0.99549</td>\n",
              "      <td>3.39</td>\n",
              "      <td>0.66</td>\n",
              "      <td>11.0</td>\n",
              "      <td>6</td>\n",
              "    </tr>\n",
              "  </tbody>\n",
              "</table>\n",
              "</div>"
            ],
            "text/plain": [
              "      fixed acidity  volatile acidity  citric acid  ...  sulphates  alcohol  quality\n",
              "1594            6.2             0.600         0.08  ...       0.58     10.5        5\n",
              "1595            5.9             0.550         0.10  ...       0.76     11.2        6\n",
              "1596            6.3             0.510         0.13  ...       0.75     11.0        6\n",
              "1597            5.9             0.645         0.12  ...       0.71     10.2        5\n",
              "1598            6.0             0.310         0.47  ...       0.66     11.0        6\n",
              "\n",
              "[5 rows x 12 columns]"
            ]
          },
          "metadata": {
            "tags": []
          },
          "execution_count": 187
        }
      ]
    },
    {
      "cell_type": "code",
      "metadata": {
        "id": "M619q_W3Gxxc",
        "colab_type": "code",
        "outputId": "cb7e4934-c2c9-4e20-9207-91d7cb554d17",
        "colab": {
          "base_uri": "https://localhost:8080/",
          "height": 34
        }
      },
      "source": [
        "# importing one hot encoder from sklearn \n",
        "from sklearn import preprocessing\n",
        "le = preprocessing.LabelEncoder()\n",
        "le.fit(df['quality'])\n",
        "list(le.classes_)\n",
        "dfn = le.transform(df['quality'])\n",
        "le.inverse_transform([0,1,2,3,4,5])\n",
        "df['Y'] =dfn"
      ],
      "execution_count": 0,
      "outputs": [
        {
          "output_type": "execute_result",
          "data": {
            "text/plain": [
              "LabelEncoder()"
            ]
          },
          "metadata": {
            "tags": []
          },
          "execution_count": 188
        },
        {
          "output_type": "execute_result",
          "data": {
            "text/plain": [
              "[3, 4, 5, 6, 7, 8]"
            ]
          },
          "metadata": {
            "tags": []
          },
          "execution_count": 188
        },
        {
          "output_type": "execute_result",
          "data": {
            "text/plain": [
              "array([3, 4, 5, 6, 7, 8])"
            ]
          },
          "metadata": {
            "tags": []
          },
          "execution_count": 188
        }
      ]
    },
    {
      "cell_type": "code",
      "metadata": {
        "id": "7x3AkRi2MY3N",
        "colab_type": "code",
        "outputId": "92db6316-565c-40ee-9420-e6d18d9ec299",
        "colab": {
          "base_uri": "https://localhost:8080/",
          "height": 323
        }
      },
      "source": [
        "df.info()"
      ],
      "execution_count": 0,
      "outputs": [
        {
          "output_type": "stream",
          "text": [
            "<class 'pandas.core.frame.DataFrame'>\n",
            "RangeIndex: 1599 entries, 0 to 1598\n",
            "Data columns (total 13 columns):\n",
            "fixed acidity           1599 non-null float64\n",
            "volatile acidity        1599 non-null float64\n",
            "citric acid             1599 non-null float64\n",
            "residual sugar          1599 non-null float64\n",
            "chlorides               1599 non-null float64\n",
            "free sulfur dioxide     1599 non-null float64\n",
            "total sulfur dioxide    1599 non-null float64\n",
            "density                 1599 non-null float64\n",
            "pH                      1599 non-null float64\n",
            "sulphates               1599 non-null float64\n",
            "alcohol                 1599 non-null float64\n",
            "quality                 1599 non-null int64\n",
            "Y                       1599 non-null int64\n",
            "dtypes: float64(11), int64(2)\n",
            "memory usage: 162.5 KB\n"
          ],
          "name": "stdout"
        }
      ]
    },
    {
      "cell_type": "code",
      "metadata": {
        "id": "sNORkD_LL_OP",
        "colab_type": "code",
        "outputId": "ff8b68a3-6b35-44d2-be04-5124f399f952",
        "colab": {
          "base_uri": "https://localhost:8080/",
          "height": 221
        }
      },
      "source": [
        "df.head()"
      ],
      "execution_count": 0,
      "outputs": [
        {
          "output_type": "execute_result",
          "data": {
            "text/html": [
              "<div>\n",
              "<style scoped>\n",
              "    .dataframe tbody tr th:only-of-type {\n",
              "        vertical-align: middle;\n",
              "    }\n",
              "\n",
              "    .dataframe tbody tr th {\n",
              "        vertical-align: top;\n",
              "    }\n",
              "\n",
              "    .dataframe thead th {\n",
              "        text-align: right;\n",
              "    }\n",
              "</style>\n",
              "<table border=\"1\" class=\"dataframe\">\n",
              "  <thead>\n",
              "    <tr style=\"text-align: right;\">\n",
              "      <th></th>\n",
              "      <th>fixed acidity</th>\n",
              "      <th>volatile acidity</th>\n",
              "      <th>citric acid</th>\n",
              "      <th>residual sugar</th>\n",
              "      <th>chlorides</th>\n",
              "      <th>free sulfur dioxide</th>\n",
              "      <th>total sulfur dioxide</th>\n",
              "      <th>density</th>\n",
              "      <th>pH</th>\n",
              "      <th>sulphates</th>\n",
              "      <th>alcohol</th>\n",
              "      <th>quality</th>\n",
              "      <th>Y</th>\n",
              "    </tr>\n",
              "  </thead>\n",
              "  <tbody>\n",
              "    <tr>\n",
              "      <th>0</th>\n",
              "      <td>7.4</td>\n",
              "      <td>0.70</td>\n",
              "      <td>0.00</td>\n",
              "      <td>1.9</td>\n",
              "      <td>0.076</td>\n",
              "      <td>11.0</td>\n",
              "      <td>34.0</td>\n",
              "      <td>0.9978</td>\n",
              "      <td>3.51</td>\n",
              "      <td>0.56</td>\n",
              "      <td>9.4</td>\n",
              "      <td>5</td>\n",
              "      <td>2</td>\n",
              "    </tr>\n",
              "    <tr>\n",
              "      <th>1</th>\n",
              "      <td>7.8</td>\n",
              "      <td>0.88</td>\n",
              "      <td>0.00</td>\n",
              "      <td>2.6</td>\n",
              "      <td>0.098</td>\n",
              "      <td>25.0</td>\n",
              "      <td>67.0</td>\n",
              "      <td>0.9968</td>\n",
              "      <td>3.20</td>\n",
              "      <td>0.68</td>\n",
              "      <td>9.8</td>\n",
              "      <td>5</td>\n",
              "      <td>2</td>\n",
              "    </tr>\n",
              "    <tr>\n",
              "      <th>2</th>\n",
              "      <td>7.8</td>\n",
              "      <td>0.76</td>\n",
              "      <td>0.04</td>\n",
              "      <td>2.3</td>\n",
              "      <td>0.092</td>\n",
              "      <td>15.0</td>\n",
              "      <td>54.0</td>\n",
              "      <td>0.9970</td>\n",
              "      <td>3.26</td>\n",
              "      <td>0.65</td>\n",
              "      <td>9.8</td>\n",
              "      <td>5</td>\n",
              "      <td>2</td>\n",
              "    </tr>\n",
              "    <tr>\n",
              "      <th>3</th>\n",
              "      <td>11.2</td>\n",
              "      <td>0.28</td>\n",
              "      <td>0.56</td>\n",
              "      <td>1.9</td>\n",
              "      <td>0.075</td>\n",
              "      <td>17.0</td>\n",
              "      <td>60.0</td>\n",
              "      <td>0.9980</td>\n",
              "      <td>3.16</td>\n",
              "      <td>0.58</td>\n",
              "      <td>9.8</td>\n",
              "      <td>6</td>\n",
              "      <td>3</td>\n",
              "    </tr>\n",
              "    <tr>\n",
              "      <th>4</th>\n",
              "      <td>7.4</td>\n",
              "      <td>0.70</td>\n",
              "      <td>0.00</td>\n",
              "      <td>1.9</td>\n",
              "      <td>0.076</td>\n",
              "      <td>11.0</td>\n",
              "      <td>34.0</td>\n",
              "      <td>0.9978</td>\n",
              "      <td>3.51</td>\n",
              "      <td>0.56</td>\n",
              "      <td>9.4</td>\n",
              "      <td>5</td>\n",
              "      <td>2</td>\n",
              "    </tr>\n",
              "  </tbody>\n",
              "</table>\n",
              "</div>"
            ],
            "text/plain": [
              "   fixed acidity  volatile acidity  citric acid  ...  alcohol  quality  Y\n",
              "0            7.4              0.70         0.00  ...      9.4        5  2\n",
              "1            7.8              0.88         0.00  ...      9.8        5  2\n",
              "2            7.8              0.76         0.04  ...      9.8        5  2\n",
              "3           11.2              0.28         0.56  ...      9.8        6  3\n",
              "4            7.4              0.70         0.00  ...      9.4        5  2\n",
              "\n",
              "[5 rows x 13 columns]"
            ]
          },
          "metadata": {
            "tags": []
          },
          "execution_count": 189
        }
      ]
    },
    {
      "cell_type": "code",
      "metadata": {
        "id": "HRNR9R__goNK",
        "colab_type": "code",
        "outputId": "ca0b319a-c34f-4f96-ba67-63277a3fedfb",
        "colab": {
          "base_uri": "https://localhost:8080/",
          "height": 351
        }
      },
      "source": [
        "df.describe()"
      ],
      "execution_count": 0,
      "outputs": [
        {
          "output_type": "execute_result",
          "data": {
            "text/html": [
              "<div>\n",
              "<style scoped>\n",
              "    .dataframe tbody tr th:only-of-type {\n",
              "        vertical-align: middle;\n",
              "    }\n",
              "\n",
              "    .dataframe tbody tr th {\n",
              "        vertical-align: top;\n",
              "    }\n",
              "\n",
              "    .dataframe thead th {\n",
              "        text-align: right;\n",
              "    }\n",
              "</style>\n",
              "<table border=\"1\" class=\"dataframe\">\n",
              "  <thead>\n",
              "    <tr style=\"text-align: right;\">\n",
              "      <th></th>\n",
              "      <th>fixed acidity</th>\n",
              "      <th>volatile acidity</th>\n",
              "      <th>citric acid</th>\n",
              "      <th>residual sugar</th>\n",
              "      <th>chlorides</th>\n",
              "      <th>free sulfur dioxide</th>\n",
              "      <th>total sulfur dioxide</th>\n",
              "      <th>density</th>\n",
              "      <th>pH</th>\n",
              "      <th>sulphates</th>\n",
              "      <th>alcohol</th>\n",
              "      <th>quality</th>\n",
              "      <th>Y</th>\n",
              "    </tr>\n",
              "  </thead>\n",
              "  <tbody>\n",
              "    <tr>\n",
              "      <th>count</th>\n",
              "      <td>1599.000000</td>\n",
              "      <td>1599.000000</td>\n",
              "      <td>1599.000000</td>\n",
              "      <td>1599.000000</td>\n",
              "      <td>1599.000000</td>\n",
              "      <td>1599.000000</td>\n",
              "      <td>1599.000000</td>\n",
              "      <td>1599.000000</td>\n",
              "      <td>1599.000000</td>\n",
              "      <td>1599.000000</td>\n",
              "      <td>1599.000000</td>\n",
              "      <td>1599.000000</td>\n",
              "      <td>1599.000000</td>\n",
              "    </tr>\n",
              "    <tr>\n",
              "      <th>mean</th>\n",
              "      <td>8.319637</td>\n",
              "      <td>0.527821</td>\n",
              "      <td>0.270976</td>\n",
              "      <td>2.538806</td>\n",
              "      <td>0.087467</td>\n",
              "      <td>15.874922</td>\n",
              "      <td>46.467792</td>\n",
              "      <td>0.996747</td>\n",
              "      <td>3.311113</td>\n",
              "      <td>0.658149</td>\n",
              "      <td>10.422983</td>\n",
              "      <td>5.636023</td>\n",
              "      <td>2.636023</td>\n",
              "    </tr>\n",
              "    <tr>\n",
              "      <th>std</th>\n",
              "      <td>1.741096</td>\n",
              "      <td>0.179060</td>\n",
              "      <td>0.194801</td>\n",
              "      <td>1.409928</td>\n",
              "      <td>0.047065</td>\n",
              "      <td>10.460157</td>\n",
              "      <td>32.895324</td>\n",
              "      <td>0.001887</td>\n",
              "      <td>0.154386</td>\n",
              "      <td>0.169507</td>\n",
              "      <td>1.065668</td>\n",
              "      <td>0.807569</td>\n",
              "      <td>0.807569</td>\n",
              "    </tr>\n",
              "    <tr>\n",
              "      <th>min</th>\n",
              "      <td>4.600000</td>\n",
              "      <td>0.120000</td>\n",
              "      <td>0.000000</td>\n",
              "      <td>0.900000</td>\n",
              "      <td>0.012000</td>\n",
              "      <td>1.000000</td>\n",
              "      <td>6.000000</td>\n",
              "      <td>0.990070</td>\n",
              "      <td>2.740000</td>\n",
              "      <td>0.330000</td>\n",
              "      <td>8.400000</td>\n",
              "      <td>3.000000</td>\n",
              "      <td>0.000000</td>\n",
              "    </tr>\n",
              "    <tr>\n",
              "      <th>25%</th>\n",
              "      <td>7.100000</td>\n",
              "      <td>0.390000</td>\n",
              "      <td>0.090000</td>\n",
              "      <td>1.900000</td>\n",
              "      <td>0.070000</td>\n",
              "      <td>7.000000</td>\n",
              "      <td>22.000000</td>\n",
              "      <td>0.995600</td>\n",
              "      <td>3.210000</td>\n",
              "      <td>0.550000</td>\n",
              "      <td>9.500000</td>\n",
              "      <td>5.000000</td>\n",
              "      <td>2.000000</td>\n",
              "    </tr>\n",
              "    <tr>\n",
              "      <th>50%</th>\n",
              "      <td>7.900000</td>\n",
              "      <td>0.520000</td>\n",
              "      <td>0.260000</td>\n",
              "      <td>2.200000</td>\n",
              "      <td>0.079000</td>\n",
              "      <td>14.000000</td>\n",
              "      <td>38.000000</td>\n",
              "      <td>0.996750</td>\n",
              "      <td>3.310000</td>\n",
              "      <td>0.620000</td>\n",
              "      <td>10.200000</td>\n",
              "      <td>6.000000</td>\n",
              "      <td>3.000000</td>\n",
              "    </tr>\n",
              "    <tr>\n",
              "      <th>75%</th>\n",
              "      <td>9.200000</td>\n",
              "      <td>0.640000</td>\n",
              "      <td>0.420000</td>\n",
              "      <td>2.600000</td>\n",
              "      <td>0.090000</td>\n",
              "      <td>21.000000</td>\n",
              "      <td>62.000000</td>\n",
              "      <td>0.997835</td>\n",
              "      <td>3.400000</td>\n",
              "      <td>0.730000</td>\n",
              "      <td>11.100000</td>\n",
              "      <td>6.000000</td>\n",
              "      <td>3.000000</td>\n",
              "    </tr>\n",
              "    <tr>\n",
              "      <th>max</th>\n",
              "      <td>15.900000</td>\n",
              "      <td>1.580000</td>\n",
              "      <td>1.000000</td>\n",
              "      <td>15.500000</td>\n",
              "      <td>0.611000</td>\n",
              "      <td>72.000000</td>\n",
              "      <td>289.000000</td>\n",
              "      <td>1.003690</td>\n",
              "      <td>4.010000</td>\n",
              "      <td>2.000000</td>\n",
              "      <td>14.900000</td>\n",
              "      <td>8.000000</td>\n",
              "      <td>5.000000</td>\n",
              "    </tr>\n",
              "  </tbody>\n",
              "</table>\n",
              "</div>"
            ],
            "text/plain": [
              "       fixed acidity  volatile acidity  ...      quality            Y\n",
              "count    1599.000000       1599.000000  ...  1599.000000  1599.000000\n",
              "mean        8.319637          0.527821  ...     5.636023     2.636023\n",
              "std         1.741096          0.179060  ...     0.807569     0.807569\n",
              "min         4.600000          0.120000  ...     3.000000     0.000000\n",
              "25%         7.100000          0.390000  ...     5.000000     2.000000\n",
              "50%         7.900000          0.520000  ...     6.000000     3.000000\n",
              "75%         9.200000          0.640000  ...     6.000000     3.000000\n",
              "max        15.900000          1.580000  ...     8.000000     5.000000\n",
              "\n",
              "[8 rows x 13 columns]"
            ]
          },
          "metadata": {
            "tags": []
          },
          "execution_count": 190
        }
      ]
    },
    {
      "cell_type": "code",
      "metadata": {
        "id": "2LBmxOmsgoSV",
        "colab_type": "code",
        "outputId": "425b211d-9cc5-443d-8e3c-e9c065d02550",
        "colab": {
          "base_uri": "https://localhost:8080/",
          "height": 452
        }
      },
      "source": [
        "#Missing Value Count\n",
        "total=df.isnull().sum().sort_values(ascending=False)\n",
        "per=df.isnull().sum()/df.isnull().count()*100\n",
        "percentage=(round(per,2)).sort_values(ascending=False)\n",
        "missing_data=pd.concat([total,percentage],axis=1,keys=['Total','%'])\n",
        "missing_data"
      ],
      "execution_count": 0,
      "outputs": [
        {
          "output_type": "execute_result",
          "data": {
            "text/html": [
              "<div>\n",
              "<style scoped>\n",
              "    .dataframe tbody tr th:only-of-type {\n",
              "        vertical-align: middle;\n",
              "    }\n",
              "\n",
              "    .dataframe tbody tr th {\n",
              "        vertical-align: top;\n",
              "    }\n",
              "\n",
              "    .dataframe thead th {\n",
              "        text-align: right;\n",
              "    }\n",
              "</style>\n",
              "<table border=\"1\" class=\"dataframe\">\n",
              "  <thead>\n",
              "    <tr style=\"text-align: right;\">\n",
              "      <th></th>\n",
              "      <th>Total</th>\n",
              "      <th>%</th>\n",
              "    </tr>\n",
              "  </thead>\n",
              "  <tbody>\n",
              "    <tr>\n",
              "      <th>Y</th>\n",
              "      <td>0</td>\n",
              "      <td>0.0</td>\n",
              "    </tr>\n",
              "    <tr>\n",
              "      <th>quality</th>\n",
              "      <td>0</td>\n",
              "      <td>0.0</td>\n",
              "    </tr>\n",
              "    <tr>\n",
              "      <th>alcohol</th>\n",
              "      <td>0</td>\n",
              "      <td>0.0</td>\n",
              "    </tr>\n",
              "    <tr>\n",
              "      <th>sulphates</th>\n",
              "      <td>0</td>\n",
              "      <td>0.0</td>\n",
              "    </tr>\n",
              "    <tr>\n",
              "      <th>pH</th>\n",
              "      <td>0</td>\n",
              "      <td>0.0</td>\n",
              "    </tr>\n",
              "    <tr>\n",
              "      <th>density</th>\n",
              "      <td>0</td>\n",
              "      <td>0.0</td>\n",
              "    </tr>\n",
              "    <tr>\n",
              "      <th>total sulfur dioxide</th>\n",
              "      <td>0</td>\n",
              "      <td>0.0</td>\n",
              "    </tr>\n",
              "    <tr>\n",
              "      <th>free sulfur dioxide</th>\n",
              "      <td>0</td>\n",
              "      <td>0.0</td>\n",
              "    </tr>\n",
              "    <tr>\n",
              "      <th>chlorides</th>\n",
              "      <td>0</td>\n",
              "      <td>0.0</td>\n",
              "    </tr>\n",
              "    <tr>\n",
              "      <th>residual sugar</th>\n",
              "      <td>0</td>\n",
              "      <td>0.0</td>\n",
              "    </tr>\n",
              "    <tr>\n",
              "      <th>citric acid</th>\n",
              "      <td>0</td>\n",
              "      <td>0.0</td>\n",
              "    </tr>\n",
              "    <tr>\n",
              "      <th>volatile acidity</th>\n",
              "      <td>0</td>\n",
              "      <td>0.0</td>\n",
              "    </tr>\n",
              "    <tr>\n",
              "      <th>fixed acidity</th>\n",
              "      <td>0</td>\n",
              "      <td>0.0</td>\n",
              "    </tr>\n",
              "  </tbody>\n",
              "</table>\n",
              "</div>"
            ],
            "text/plain": [
              "                      Total    %\n",
              "Y                         0  0.0\n",
              "quality                   0  0.0\n",
              "alcohol                   0  0.0\n",
              "sulphates                 0  0.0\n",
              "pH                        0  0.0\n",
              "density                   0  0.0\n",
              "total sulfur dioxide      0  0.0\n",
              "free sulfur dioxide       0  0.0\n",
              "chlorides                 0  0.0\n",
              "residual sugar            0  0.0\n",
              "citric acid               0  0.0\n",
              "volatile acidity          0  0.0\n",
              "fixed acidity             0  0.0"
            ]
          },
          "metadata": {
            "tags": []
          },
          "execution_count": 191
        }
      ]
    },
    {
      "cell_type": "code",
      "metadata": {
        "id": "OC9BdB6ZM4dR",
        "colab_type": "code",
        "outputId": "ed9e3c39-d48c-4aef-f953-14f572d53390",
        "colab": {
          "base_uri": "https://localhost:8080/",
          "height": 85
        }
      },
      "source": [
        "df.columns"
      ],
      "execution_count": 0,
      "outputs": [
        {
          "output_type": "execute_result",
          "data": {
            "text/plain": [
              "Index(['fixed acidity', 'volatile acidity', 'citric acid', 'residual sugar',\n",
              "       'chlorides', 'free sulfur dioxide', 'total sulfur dioxide', 'density',\n",
              "       'pH', 'sulphates', 'alcohol', 'quality', 'Y'],\n",
              "      dtype='object')"
            ]
          },
          "metadata": {
            "tags": []
          },
          "execution_count": 192
        }
      ]
    },
    {
      "cell_type": "code",
      "metadata": {
        "id": "AqnHKbyFgoX9",
        "colab_type": "code",
        "outputId": "e134d091-7359-42c8-a08b-b53d2af9f496",
        "colab": {
          "base_uri": "https://localhost:8080/",
          "height": 306
        }
      },
      "source": [
        "#Creating independent and dependent variable\n",
        "x1 =df.drop('quality', axis = 1)\n",
        "x = x1.drop('Y', axis = 1)\n",
        "y=df['Y']\n",
        "x.head()\n",
        "x.shape\n",
        "y.head()\n",
        "y.shape"
      ],
      "execution_count": 0,
      "outputs": [
        {
          "output_type": "execute_result",
          "data": {
            "text/html": [
              "<div>\n",
              "<style scoped>\n",
              "    .dataframe tbody tr th:only-of-type {\n",
              "        vertical-align: middle;\n",
              "    }\n",
              "\n",
              "    .dataframe tbody tr th {\n",
              "        vertical-align: top;\n",
              "    }\n",
              "\n",
              "    .dataframe thead th {\n",
              "        text-align: right;\n",
              "    }\n",
              "</style>\n",
              "<table border=\"1\" class=\"dataframe\">\n",
              "  <thead>\n",
              "    <tr style=\"text-align: right;\">\n",
              "      <th></th>\n",
              "      <th>fixed acidity</th>\n",
              "      <th>volatile acidity</th>\n",
              "      <th>citric acid</th>\n",
              "      <th>residual sugar</th>\n",
              "      <th>chlorides</th>\n",
              "      <th>free sulfur dioxide</th>\n",
              "      <th>total sulfur dioxide</th>\n",
              "      <th>density</th>\n",
              "      <th>pH</th>\n",
              "      <th>sulphates</th>\n",
              "      <th>alcohol</th>\n",
              "    </tr>\n",
              "  </thead>\n",
              "  <tbody>\n",
              "    <tr>\n",
              "      <th>0</th>\n",
              "      <td>7.4</td>\n",
              "      <td>0.70</td>\n",
              "      <td>0.00</td>\n",
              "      <td>1.9</td>\n",
              "      <td>0.076</td>\n",
              "      <td>11.0</td>\n",
              "      <td>34.0</td>\n",
              "      <td>0.9978</td>\n",
              "      <td>3.51</td>\n",
              "      <td>0.56</td>\n",
              "      <td>9.4</td>\n",
              "    </tr>\n",
              "    <tr>\n",
              "      <th>1</th>\n",
              "      <td>7.8</td>\n",
              "      <td>0.88</td>\n",
              "      <td>0.00</td>\n",
              "      <td>2.6</td>\n",
              "      <td>0.098</td>\n",
              "      <td>25.0</td>\n",
              "      <td>67.0</td>\n",
              "      <td>0.9968</td>\n",
              "      <td>3.20</td>\n",
              "      <td>0.68</td>\n",
              "      <td>9.8</td>\n",
              "    </tr>\n",
              "    <tr>\n",
              "      <th>2</th>\n",
              "      <td>7.8</td>\n",
              "      <td>0.76</td>\n",
              "      <td>0.04</td>\n",
              "      <td>2.3</td>\n",
              "      <td>0.092</td>\n",
              "      <td>15.0</td>\n",
              "      <td>54.0</td>\n",
              "      <td>0.9970</td>\n",
              "      <td>3.26</td>\n",
              "      <td>0.65</td>\n",
              "      <td>9.8</td>\n",
              "    </tr>\n",
              "    <tr>\n",
              "      <th>3</th>\n",
              "      <td>11.2</td>\n",
              "      <td>0.28</td>\n",
              "      <td>0.56</td>\n",
              "      <td>1.9</td>\n",
              "      <td>0.075</td>\n",
              "      <td>17.0</td>\n",
              "      <td>60.0</td>\n",
              "      <td>0.9980</td>\n",
              "      <td>3.16</td>\n",
              "      <td>0.58</td>\n",
              "      <td>9.8</td>\n",
              "    </tr>\n",
              "    <tr>\n",
              "      <th>4</th>\n",
              "      <td>7.4</td>\n",
              "      <td>0.70</td>\n",
              "      <td>0.00</td>\n",
              "      <td>1.9</td>\n",
              "      <td>0.076</td>\n",
              "      <td>11.0</td>\n",
              "      <td>34.0</td>\n",
              "      <td>0.9978</td>\n",
              "      <td>3.51</td>\n",
              "      <td>0.56</td>\n",
              "      <td>9.4</td>\n",
              "    </tr>\n",
              "  </tbody>\n",
              "</table>\n",
              "</div>"
            ],
            "text/plain": [
              "   fixed acidity  volatile acidity  citric acid  ...    pH  sulphates  alcohol\n",
              "0            7.4              0.70         0.00  ...  3.51       0.56      9.4\n",
              "1            7.8              0.88         0.00  ...  3.20       0.68      9.8\n",
              "2            7.8              0.76         0.04  ...  3.26       0.65      9.8\n",
              "3           11.2              0.28         0.56  ...  3.16       0.58      9.8\n",
              "4            7.4              0.70         0.00  ...  3.51       0.56      9.4\n",
              "\n",
              "[5 rows x 11 columns]"
            ]
          },
          "metadata": {
            "tags": []
          },
          "execution_count": 194
        },
        {
          "output_type": "execute_result",
          "data": {
            "text/plain": [
              "(1599, 11)"
            ]
          },
          "metadata": {
            "tags": []
          },
          "execution_count": 194
        },
        {
          "output_type": "execute_result",
          "data": {
            "text/plain": [
              "0    2\n",
              "1    2\n",
              "2    2\n",
              "3    3\n",
              "4    2\n",
              "Name: Y, dtype: int64"
            ]
          },
          "metadata": {
            "tags": []
          },
          "execution_count": 194
        },
        {
          "output_type": "execute_result",
          "data": {
            "text/plain": [
              "(1599,)"
            ]
          },
          "metadata": {
            "tags": []
          },
          "execution_count": 194
        }
      ]
    },
    {
      "cell_type": "code",
      "metadata": {
        "id": "xID_3MRZgobS",
        "colab_type": "code",
        "outputId": "10e4f1d5-129f-41a9-8e77-3e5673aa910c",
        "colab": {
          "base_uri": "https://localhost:8080/",
          "height": 34
        }
      },
      "source": [
        "#Creating train and test data 75% and 25% split\n",
        "train_x,test_x,train_y,test_y=train_test_split(x,y,test_size=0.25,random_state=1)\n",
        "train_x.shape\n",
        "test_x.shape\n",
        "train_y.shape\n",
        "test_y.shape"
      ],
      "execution_count": 0,
      "outputs": [
        {
          "output_type": "execute_result",
          "data": {
            "text/plain": [
              "(1199, 11)"
            ]
          },
          "metadata": {
            "tags": []
          },
          "execution_count": 196
        },
        {
          "output_type": "execute_result",
          "data": {
            "text/plain": [
              "(400, 11)"
            ]
          },
          "metadata": {
            "tags": []
          },
          "execution_count": 196
        },
        {
          "output_type": "execute_result",
          "data": {
            "text/plain": [
              "(1199,)"
            ]
          },
          "metadata": {
            "tags": []
          },
          "execution_count": 196
        },
        {
          "output_type": "execute_result",
          "data": {
            "text/plain": [
              "(400,)"
            ]
          },
          "metadata": {
            "tags": []
          },
          "execution_count": 196
        }
      ]
    },
    {
      "cell_type": "code",
      "metadata": {
        "id": "eZL9eQMfgog-",
        "colab_type": "code",
        "outputId": "93853d2a-d893-4d03-c34f-abfafc013fb4",
        "colab": {
          "base_uri": "https://localhost:8080/",
          "height": 136
        }
      },
      "source": [
        "test_y.value_counts()"
      ],
      "execution_count": 0,
      "outputs": [
        {
          "output_type": "execute_result",
          "data": {
            "text/plain": [
              "2    171\n",
              "3    167\n",
              "4     42\n",
              "1     16\n",
              "5      3\n",
              "0      1\n",
              "Name: Y, dtype: int64"
            ]
          },
          "metadata": {
            "tags": []
          },
          "execution_count": 197
        }
      ]
    },
    {
      "cell_type": "code",
      "metadata": {
        "id": "HdQbW89Dgofr",
        "colab_type": "code",
        "outputId": "2729ee11-7dd8-4fd6-c88e-52e15e4180c8",
        "colab": {
          "base_uri": "https://localhost:8080/",
          "height": 136
        }
      },
      "source": [
        "df['Y'].value_counts()"
      ],
      "execution_count": 0,
      "outputs": [
        {
          "output_type": "execute_result",
          "data": {
            "text/plain": [
              "2    681\n",
              "3    638\n",
              "4    199\n",
              "1     53\n",
              "5     18\n",
              "0     10\n",
              "Name: Y, dtype: int64"
            ]
          },
          "metadata": {
            "tags": []
          },
          "execution_count": 198
        }
      ]
    },
    {
      "cell_type": "code",
      "metadata": {
        "id": "KT9-vDh6NuGv",
        "colab_type": "code",
        "outputId": "b14d2f2b-64a1-444b-ee07-656d4b1c32fe",
        "colab": {
          "base_uri": "https://localhost:8080/",
          "height": 85
        }
      },
      "source": [
        "train_x.columns"
      ],
      "execution_count": 0,
      "outputs": [
        {
          "output_type": "execute_result",
          "data": {
            "text/plain": [
              "Index(['fixed acidity', 'volatile acidity', 'citric acid', 'residual sugar',\n",
              "       'chlorides', 'free sulfur dioxide', 'total sulfur dioxide', 'density',\n",
              "       'pH', 'sulphates', 'alcohol'],\n",
              "      dtype='object')"
            ]
          },
          "metadata": {
            "tags": []
          },
          "execution_count": 199
        }
      ]
    },
    {
      "cell_type": "markdown",
      "metadata": {
        "id": "2PQDNrLTyGCy",
        "colab_type": "text"
      },
      "source": [
        "**DECISION TREE**"
      ]
    },
    {
      "cell_type": "code",
      "metadata": {
        "id": "mXhJi_LOwG7i",
        "colab_type": "code",
        "colab": {}
      },
      "source": [
        "# training a DescisionTreeClassifier \n",
        "from sklearn.tree import DecisionTreeClassifier \n",
        "dtree_model = DecisionTreeClassifier(max_depth = 2).fit(train_x, train_y) \n",
        "dtree_predictions = dtree_model.predict(test_x)"
      ],
      "execution_count": 0,
      "outputs": []
    },
    {
      "cell_type": "code",
      "metadata": {
        "id": "ijDm9-rcwHFt",
        "colab_type": "code",
        "outputId": "bd84db80-06c8-4288-9193-c1afd5994172",
        "colab": {
          "base_uri": "https://localhost:8080/",
          "height": 119
        }
      },
      "source": [
        "# creating a confusion matrix \n",
        "cm = confusion_matrix(test_y, dtree_predictions) \n",
        "cm"
      ],
      "execution_count": 0,
      "outputs": [
        {
          "output_type": "execute_result",
          "data": {
            "text/plain": [
              "array([[  0,   0,   1,   0,   0,   0],\n",
              "       [  0,   0,  11,   5,   0,   0],\n",
              "       [  0,   0, 150,  17,   4,   0],\n",
              "       [  0,   0,  88,  52,  27,   0],\n",
              "       [  0,   0,   6,  16,  20,   0],\n",
              "       [  0,   0,   0,   0,   3,   0]])"
            ]
          },
          "metadata": {
            "tags": []
          },
          "execution_count": 205
        }
      ]
    },
    {
      "cell_type": "code",
      "metadata": {
        "id": "Xbln2A1hwl76",
        "colab_type": "code",
        "outputId": "7c99b46d-5f90-43c7-d0e9-91f20ddcbd0c",
        "colab": {
          "base_uri": "https://localhost:8080/",
          "height": 360
        }
      },
      "source": [
        "print(\"Accuracy Score\")\n",
        "print(metrics.accuracy_score(test_y,dtree_predictions))\n",
        "print(\"Precision/Recall Metrics\")\n",
        "print(metrics.classification_report(test_y,dtree_predictions))\n",
        "print(\"AUC\")\n",
        "#auc_dtree=metrics.roc_auc_score(test_y,dtree_predictions)\n",
        "#auc_dtree"
      ],
      "execution_count": 0,
      "outputs": [
        {
          "output_type": "stream",
          "text": [
            "Accuracy Score\n",
            "0.555\n",
            "Precision/Recall Metrics\n",
            "              precision    recall  f1-score   support\n",
            "\n",
            "           0       0.00      0.00      0.00         1\n",
            "           1       0.00      0.00      0.00        16\n",
            "           2       0.59      0.88      0.70       171\n",
            "           3       0.58      0.31      0.40       167\n",
            "           4       0.37      0.48      0.42        42\n",
            "           5       0.00      0.00      0.00         3\n",
            "\n",
            "    accuracy                           0.56       400\n",
            "   macro avg       0.26      0.28      0.25       400\n",
            "weighted avg       0.53      0.56      0.51       400\n",
            "\n",
            "AUC\n"
          ],
          "name": "stdout"
        },
        {
          "output_type": "stream",
          "text": [
            "/usr/local/lib/python3.6/dist-packages/sklearn/metrics/classification.py:1437: UndefinedMetricWarning: Precision and F-score are ill-defined and being set to 0.0 in labels with no predicted samples.\n",
            "  'precision', 'predicted', average, warn_for)\n"
          ],
          "name": "stderr"
        }
      ]
    },
    {
      "cell_type": "markdown",
      "metadata": {
        "id": "AFb94rSHyUh6",
        "colab_type": "text"
      },
      "source": [
        "**SUPPORT VECTOR MACHINE**"
      ]
    },
    {
      "cell_type": "code",
      "metadata": {
        "id": "APpi13Ljk5Ic",
        "colab_type": "code",
        "colab": {}
      },
      "source": [
        "# training a linear SVM classifier \n",
        "from sklearn.svm import SVC \n",
        "svm_model_linear = SVC(kernel = 'linear', C = 1).fit(train_x, train_y) \n",
        "svm_predictions = svm_model_linear.predict(test_x)"
      ],
      "execution_count": 0,
      "outputs": []
    },
    {
      "cell_type": "code",
      "metadata": {
        "id": "meVRJtwayk4s",
        "colab_type": "code",
        "outputId": "432dba37-e0bf-4588-be47-36f1b7b1f5d8",
        "colab": {
          "base_uri": "https://localhost:8080/",
          "height": 34
        }
      },
      "source": [
        "# model accuracy for X_test   \n",
        "accuracy = svm_model_linear.score(test_x, test_y) \n",
        "accuracy"
      ],
      "execution_count": 0,
      "outputs": [
        {
          "output_type": "execute_result",
          "data": {
            "text/plain": [
              "0.595"
            ]
          },
          "metadata": {
            "tags": []
          },
          "execution_count": 208
        }
      ]
    },
    {
      "cell_type": "code",
      "metadata": {
        "id": "o9XpwB8qylAN",
        "colab_type": "code",
        "outputId": "fe751466-7e86-43fd-f7ad-a13dfdae3c08",
        "colab": {
          "base_uri": "https://localhost:8080/",
          "height": 119
        }
      },
      "source": [
        "# creating a confusion matrix \n",
        "cm = confusion_matrix(test_y, svm_predictions) \n",
        "cm"
      ],
      "execution_count": 0,
      "outputs": [
        {
          "output_type": "execute_result",
          "data": {
            "text/plain": [
              "array([[  0,   0,   1,   0,   0,   0],\n",
              "       [  0,   0,  12,   4,   0,   0],\n",
              "       [  0,   0, 139,  32,   0,   0],\n",
              "       [  0,   0,  68,  99,   0,   0],\n",
              "       [  0,   0,   4,  38,   0,   0],\n",
              "       [  0,   0,   0,   3,   0,   0]])"
            ]
          },
          "metadata": {
            "tags": []
          },
          "execution_count": 209
        }
      ]
    },
    {
      "cell_type": "code",
      "metadata": {
        "id": "8O0IKH2BylHE",
        "colab_type": "code",
        "outputId": "017abdaf-a5db-45ae-c7e9-2580f3d19cc3",
        "colab": {
          "base_uri": "https://localhost:8080/",
          "height": 360
        }
      },
      "source": [
        "print(\"Accuracy Score\")\n",
        "print(metrics.accuracy_score(test_y,svm_predictions))\n",
        "print(\"Precision/Recall Metrics\")\n",
        "print(metrics.classification_report(test_y,svm_predictions))\n",
        "print(\"AUC\")"
      ],
      "execution_count": 0,
      "outputs": [
        {
          "output_type": "stream",
          "text": [
            "Accuracy Score\n",
            "0.595\n",
            "Precision/Recall Metrics\n",
            "              precision    recall  f1-score   support\n",
            "\n",
            "           0       0.00      0.00      0.00         1\n",
            "           1       0.00      0.00      0.00        16\n",
            "           2       0.62      0.81      0.70       171\n",
            "           3       0.56      0.59      0.58       167\n",
            "           4       0.00      0.00      0.00        42\n",
            "           5       0.00      0.00      0.00         3\n",
            "\n",
            "    accuracy                           0.59       400\n",
            "   macro avg       0.20      0.23      0.21       400\n",
            "weighted avg       0.50      0.59      0.54       400\n",
            "\n",
            "AUC\n"
          ],
          "name": "stdout"
        },
        {
          "output_type": "stream",
          "text": [
            "/usr/local/lib/python3.6/dist-packages/sklearn/metrics/classification.py:1437: UndefinedMetricWarning: Precision and F-score are ill-defined and being set to 0.0 in labels with no predicted samples.\n",
            "  'precision', 'predicted', average, warn_for)\n"
          ],
          "name": "stderr"
        }
      ]
    },
    {
      "cell_type": "markdown",
      "metadata": {
        "id": "o0DSM_IizyKD",
        "colab_type": "text"
      },
      "source": [
        "**K-Nearest Neighbours**"
      ]
    },
    {
      "cell_type": "code",
      "metadata": {
        "id": "7vJzoVKozxf0",
        "colab_type": "code",
        "colab": {}
      },
      "source": [
        "# training a KNN classifier \n",
        "from sklearn.neighbors import KNeighborsClassifier \n",
        "knn = KNeighborsClassifier(n_neighbors = 7).fit(train_x, train_y) "
      ],
      "execution_count": 0,
      "outputs": []
    },
    {
      "cell_type": "code",
      "metadata": {
        "id": "AVngok4tzxkz",
        "colab_type": "code",
        "outputId": "e26e4328-02f2-48fe-daea-72f6a8e4f0f3",
        "colab": {
          "base_uri": "https://localhost:8080/",
          "height": 34
        }
      },
      "source": [
        "# accuracy on X_test \n",
        "accuracy = knn.score(test_x, test_y) \n",
        "accuracy "
      ],
      "execution_count": 0,
      "outputs": [
        {
          "output_type": "execute_result",
          "data": {
            "text/plain": [
              "0.51"
            ]
          },
          "metadata": {
            "tags": []
          },
          "execution_count": 212
        }
      ]
    },
    {
      "cell_type": "code",
      "metadata": {
        "id": "bjwAt7DTzxqO",
        "colab_type": "code",
        "outputId": "5e92297c-0dfe-411d-f22c-7aa82350c131",
        "colab": {
          "base_uri": "https://localhost:8080/",
          "height": 119
        }
      },
      "source": [
        "# creating a confusion matrix \n",
        "knn_predictions = knn.predict(test_x)  \n",
        "cm = confusion_matrix(test_y, knn_predictions) \n",
        "cm"
      ],
      "execution_count": 0,
      "outputs": [
        {
          "output_type": "execute_result",
          "data": {
            "text/plain": [
              "array([[  0,   0,   0,   1,   0,   0],\n",
              "       [  0,   1,   9,   5,   1,   0],\n",
              "       [  1,   1, 118,  46,   5,   0],\n",
              "       [  0,   0,  81,  74,  12,   0],\n",
              "       [  0,   0,  13,  18,  11,   0],\n",
              "       [  0,   0,   1,   0,   2,   0]])"
            ]
          },
          "metadata": {
            "tags": []
          },
          "execution_count": 213
        }
      ]
    },
    {
      "cell_type": "code",
      "metadata": {
        "id": "uk8NUIEWzxuy",
        "colab_type": "code",
        "outputId": "e0047639-a831-4fec-927e-cffadf3394f9",
        "colab": {
          "base_uri": "https://localhost:8080/",
          "height": 360
        }
      },
      "source": [
        "print(\"Accuracy Score\")\n",
        "print(metrics.accuracy_score(test_y,knn_predictions))\n",
        "print(\"Precision/Recall Metrics\")\n",
        "print(metrics.classification_report(test_y,knn_predictions))\n",
        "print(\"AUC\")"
      ],
      "execution_count": 0,
      "outputs": [
        {
          "output_type": "stream",
          "text": [
            "Accuracy Score\n",
            "0.51\n",
            "Precision/Recall Metrics\n",
            "              precision    recall  f1-score   support\n",
            "\n",
            "           0       0.00      0.00      0.00         1\n",
            "           1       0.50      0.06      0.11        16\n",
            "           2       0.53      0.69      0.60       171\n",
            "           3       0.51      0.44      0.48       167\n",
            "           4       0.35      0.26      0.30        42\n",
            "           5       0.00      0.00      0.00         3\n",
            "\n",
            "    accuracy                           0.51       400\n",
            "   macro avg       0.32      0.24      0.25       400\n",
            "weighted avg       0.50      0.51      0.49       400\n",
            "\n",
            "AUC\n"
          ],
          "name": "stdout"
        },
        {
          "output_type": "stream",
          "text": [
            "/usr/local/lib/python3.6/dist-packages/sklearn/metrics/classification.py:1437: UndefinedMetricWarning: Precision and F-score are ill-defined and being set to 0.0 in labels with no predicted samples.\n",
            "  'precision', 'predicted', average, warn_for)\n"
          ],
          "name": "stderr"
        }
      ]
    },
    {
      "cell_type": "markdown",
      "metadata": {
        "id": "7KSZKhUj0gj9",
        "colab_type": "text"
      },
      "source": [
        "**NAIVE BAYES CLASSIFIER**"
      ]
    },
    {
      "cell_type": "code",
      "metadata": {
        "id": "ETGqfvlR0UMb",
        "colab_type": "code",
        "colab": {}
      },
      "source": [
        "# training a Naive Bayes classifier \n",
        "from sklearn.naive_bayes import GaussianNB \n",
        "gnb = GaussianNB().fit(train_x, train_y) \n",
        "gnb_predictions = gnb.predict(test_x) "
      ],
      "execution_count": 0,
      "outputs": []
    },
    {
      "cell_type": "code",
      "metadata": {
        "id": "nCqS8-3D0UQW",
        "colab_type": "code",
        "outputId": "101ae45d-d714-4ba7-fb80-3a3db1364bee",
        "colab": {
          "base_uri": "https://localhost:8080/",
          "height": 34
        }
      },
      "source": [
        "# accuracy on X_test \n",
        "accuracy = gnb.score(test_x, test_y) \n",
        "accuracy "
      ],
      "execution_count": 0,
      "outputs": [
        {
          "output_type": "execute_result",
          "data": {
            "text/plain": [
              "0.55"
            ]
          },
          "metadata": {
            "tags": []
          },
          "execution_count": 216
        }
      ]
    },
    {
      "cell_type": "code",
      "metadata": {
        "id": "MDYA-ENO0UVH",
        "colab_type": "code",
        "outputId": "03e6fa37-4de9-49e2-a3a2-7db08be058fd",
        "colab": {
          "base_uri": "https://localhost:8080/",
          "height": 119
        }
      },
      "source": [
        "# creating a confusion matrix \n",
        "cm = confusion_matrix(test_y, gnb_predictions) \n",
        "cm"
      ],
      "execution_count": 0,
      "outputs": [
        {
          "output_type": "execute_result",
          "data": {
            "text/plain": [
              "array([[  0,   1,   0,   0,   0,   0],\n",
              "       [  1,   0,  10,   4,   1,   0],\n",
              "       [  0,   6, 125,  31,   9,   0],\n",
              "       [  0,   7,  55,  70,  33,   2],\n",
              "       [  0,   0,   5,  12,  25,   0],\n",
              "       [  0,   0,   0,   0,   3,   0]])"
            ]
          },
          "metadata": {
            "tags": []
          },
          "execution_count": 217
        }
      ]
    },
    {
      "cell_type": "code",
      "metadata": {
        "id": "tZOToog70UTn",
        "colab_type": "code",
        "outputId": "76fdc594-27b5-4888-bbc3-c3706e8dec00",
        "colab": {
          "base_uri": "https://localhost:8080/",
          "height": 306
        }
      },
      "source": [
        "print(\"Accuracy Score\")\n",
        "print(metrics.accuracy_score(test_y,gnb_predictions))\n",
        "print(\"Precision/Recall Metrics\")\n",
        "print(metrics.classification_report(test_y,gnb_predictions))\n",
        "print(\"AUC\")"
      ],
      "execution_count": 0,
      "outputs": [
        {
          "output_type": "stream",
          "text": [
            "Accuracy Score\n",
            "0.55\n",
            "Precision/Recall Metrics\n",
            "              precision    recall  f1-score   support\n",
            "\n",
            "           0       0.00      0.00      0.00         1\n",
            "           1       0.00      0.00      0.00        16\n",
            "           2       0.64      0.73      0.68       171\n",
            "           3       0.60      0.42      0.49       167\n",
            "           4       0.35      0.60      0.44        42\n",
            "           5       0.00      0.00      0.00         3\n",
            "\n",
            "    accuracy                           0.55       400\n",
            "   macro avg       0.27      0.29      0.27       400\n",
            "weighted avg       0.56      0.55      0.54       400\n",
            "\n",
            "AUC\n"
          ],
          "name": "stdout"
        }
      ]
    },
    {
      "cell_type": "markdown",
      "metadata": {
        "id": "lHo_TkK11WjV",
        "colab_type": "text"
      },
      "source": [
        "**DEEP NEURAL NETWORK**"
      ]
    },
    {
      "cell_type": "code",
      "metadata": {
        "id": "xSDMCtsQTLoQ",
        "colab_type": "code",
        "colab": {}
      },
      "source": [
        "df1 = pd.read_csv(\"winequality-red.csv\")"
      ],
      "execution_count": 0,
      "outputs": []
    },
    {
      "cell_type": "code",
      "metadata": {
        "id": "BiKOL50vTLmS",
        "colab_type": "code",
        "colab": {}
      },
      "source": [
        "a = df1.drop(\"quality\", axis = 1)"
      ],
      "execution_count": 0,
      "outputs": []
    },
    {
      "cell_type": "code",
      "metadata": {
        "id": "1hk-P3IiTLkr",
        "colab_type": "code",
        "colab": {}
      },
      "source": [
        "b = df1['quality']"
      ],
      "execution_count": 0,
      "outputs": []
    },
    {
      "cell_type": "code",
      "metadata": {
        "id": "yeeori1PTBaQ",
        "colab_type": "code",
        "outputId": "5774622f-0893-45cd-91ba-a49ad9d6002a",
        "colab": {
          "base_uri": "https://localhost:8080/",
          "height": 34
        }
      },
      "source": [
        "# encode class values as integers\n",
        "encoder = LabelEncoder()\n",
        "encoder.fit(b)\n",
        "encoded_B = encoder.transform(b)\n",
        "# convert integers to dummy variables (i.e. one hot encoded)\n",
        "dummy_b = np_utils.to_categorical(encoded_B)"
      ],
      "execution_count": 0,
      "outputs": [
        {
          "output_type": "execute_result",
          "data": {
            "text/plain": [
              "LabelEncoder()"
            ]
          },
          "metadata": {
            "tags": []
          },
          "execution_count": 274
        }
      ]
    },
    {
      "cell_type": "code",
      "metadata": {
        "id": "dhyK3QPmTBit",
        "colab_type": "code",
        "outputId": "d06d2e29-e305-4f28-f6b7-b4bf28bc8213",
        "colab": {
          "base_uri": "https://localhost:8080/",
          "height": 34
        }
      },
      "source": [
        "#Creating train and test data 75% and 25% split\n",
        "train_x1,test_x1,train_y1,test_y1=train_test_split(a,dummy_b,test_size=0.25,random_state=1)\n",
        "train_x1.shape\n",
        "test_x1.shape\n",
        "train_y1.shape\n",
        "test_y1.shape"
      ],
      "execution_count": 0,
      "outputs": [
        {
          "output_type": "execute_result",
          "data": {
            "text/plain": [
              "(1199, 11)"
            ]
          },
          "metadata": {
            "tags": []
          },
          "execution_count": 275
        },
        {
          "output_type": "execute_result",
          "data": {
            "text/plain": [
              "(400, 11)"
            ]
          },
          "metadata": {
            "tags": []
          },
          "execution_count": 275
        },
        {
          "output_type": "execute_result",
          "data": {
            "text/plain": [
              "(1199, 6)"
            ]
          },
          "metadata": {
            "tags": []
          },
          "execution_count": 275
        },
        {
          "output_type": "execute_result",
          "data": {
            "text/plain": [
              "(400, 6)"
            ]
          },
          "metadata": {
            "tags": []
          },
          "execution_count": 275
        }
      ]
    },
    {
      "cell_type": "code",
      "metadata": {
        "id": "fITukVlyT8eT",
        "colab_type": "code",
        "outputId": "1f1af6b9-2c10-41e9-9031-093d889c7978",
        "colab": {
          "base_uri": "https://localhost:8080/",
          "height": 136
        }
      },
      "source": [
        "train_y1"
      ],
      "execution_count": 0,
      "outputs": [
        {
          "output_type": "execute_result",
          "data": {
            "text/plain": [
              "array([[0., 0., 1., 0., 0., 0.],\n",
              "       [0., 1., 0., 0., 0., 0.],\n",
              "       [0., 0., 1., 0., 0., 0.],\n",
              "       ...,\n",
              "       [0., 0., 0., 1., 0., 0.],\n",
              "       [0., 0., 0., 1., 0., 0.],\n",
              "       [0., 0., 0., 0., 0., 1.]], dtype=float32)"
            ]
          },
          "metadata": {
            "tags": []
          },
          "execution_count": 276
        }
      ]
    },
    {
      "cell_type": "code",
      "metadata": {
        "id": "t9IgVZCf2gyZ",
        "colab_type": "code",
        "colab": {}
      },
      "source": [
        "# neural network with keras tutorial\n",
        "from keras.models import Sequential\n",
        "from keras.layers import Dense"
      ],
      "execution_count": 0,
      "outputs": []
    },
    {
      "cell_type": "code",
      "metadata": {
        "id": "Svgoa4Fg1VC8",
        "colab_type": "code",
        "colab": {}
      },
      "source": [
        "# define the keras model\n",
        "model = Sequential()\n",
        "model.add(Dense(20, input_dim=11, activation='relu'))\n",
        "model.add(Dense(6, activation='softmax'))"
      ],
      "execution_count": 0,
      "outputs": []
    },
    {
      "cell_type": "code",
      "metadata": {
        "id": "9Ts_uM4f1VHx",
        "colab_type": "code",
        "colab": {}
      },
      "source": [
        "# compile the keras model\n",
        "model.compile(loss='binary_crossentropy', optimizer='adam', metrics=['accuracy'])"
      ],
      "execution_count": 0,
      "outputs": []
    },
    {
      "cell_type": "code",
      "metadata": {
        "id": "MWeTU7Wv1VOt",
        "colab_type": "code",
        "outputId": "2a513a05-ac95-4883-fc7c-e22205c38421",
        "colab": {
          "base_uri": "https://localhost:8080/",
          "height": 1000
        }
      },
      "source": [
        "# fit the keras model on the dataset\n",
        "model.fit(train_x1,train_y1, epochs=200,verbose =2)"
      ],
      "execution_count": 0,
      "outputs": [
        {
          "output_type": "stream",
          "text": [
            " - 0s - loss: 0.2828 - acc: 0.8632\n",
            "Epoch 110/200\n",
            " - 0s - loss: 0.2819 - acc: 0.8609\n",
            "Epoch 111/200\n",
            " - 0s - loss: 0.2830 - acc: 0.8607\n",
            "Epoch 112/200\n",
            " - 0s - loss: 0.2819 - acc: 0.8607\n",
            "Epoch 113/200\n",
            " - 0s - loss: 0.2837 - acc: 0.8607\n",
            "Epoch 114/200\n",
            " - 0s - loss: 0.2810 - acc: 0.8622\n",
            "Epoch 115/200\n",
            " - 0s - loss: 0.2847 - acc: 0.8606\n",
            "Epoch 116/200\n",
            " - 0s - loss: 0.2810 - acc: 0.8627\n",
            "Epoch 117/200\n",
            " - 0s - loss: 0.2819 - acc: 0.8645\n",
            "Epoch 118/200\n",
            " - 0s - loss: 0.2849 - acc: 0.8609\n",
            "Epoch 119/200\n",
            " - 0s - loss: 0.2814 - acc: 0.8649\n",
            "Epoch 120/200\n",
            " - 0s - loss: 0.2825 - acc: 0.8571\n",
            "Epoch 121/200\n",
            " - 0s - loss: 0.2883 - acc: 0.8563\n",
            "Epoch 122/200\n",
            " - 0s - loss: 0.2827 - acc: 0.8602\n",
            "Epoch 123/200\n",
            " - 0s - loss: 0.2838 - acc: 0.8614\n",
            "Epoch 124/200\n",
            " - 0s - loss: 0.2819 - acc: 0.8620\n",
            "Epoch 125/200\n",
            " - 0s - loss: 0.2834 - acc: 0.8577\n",
            "Epoch 126/200\n",
            " - 0s - loss: 0.2842 - acc: 0.8602\n",
            "Epoch 127/200\n",
            " - 0s - loss: 0.2812 - acc: 0.8622\n",
            "Epoch 128/200\n",
            " - 0s - loss: 0.2805 - acc: 0.8614\n",
            "Epoch 129/200\n",
            " - 0s - loss: 0.2819 - acc: 0.8606\n",
            "Epoch 130/200\n",
            " - 0s - loss: 0.2806 - acc: 0.8631\n",
            "Epoch 131/200\n",
            " - 0s - loss: 0.2803 - acc: 0.8639\n",
            "Epoch 132/200\n",
            " - 0s - loss: 0.2810 - acc: 0.8597\n",
            "Epoch 133/200\n",
            " - 0s - loss: 0.2811 - acc: 0.8632\n",
            "Epoch 134/200\n",
            " - 0s - loss: 0.2811 - acc: 0.8622\n",
            "Epoch 135/200\n",
            " - 0s - loss: 0.2807 - acc: 0.8636\n",
            "Epoch 136/200\n",
            " - 0s - loss: 0.2812 - acc: 0.8638\n",
            "Epoch 137/200\n",
            " - 0s - loss: 0.2821 - acc: 0.8628\n",
            "Epoch 138/200\n",
            " - 0s - loss: 0.2806 - acc: 0.8602\n",
            "Epoch 139/200\n",
            " - 0s - loss: 0.2836 - acc: 0.8607\n",
            "Epoch 140/200\n",
            " - 0s - loss: 0.2811 - acc: 0.8631\n",
            "Epoch 141/200\n",
            " - 0s - loss: 0.2824 - acc: 0.8616\n",
            "Epoch 142/200\n",
            " - 0s - loss: 0.2791 - acc: 0.8645\n",
            "Epoch 143/200\n",
            " - 0s - loss: 0.2791 - acc: 0.8656\n",
            "Epoch 144/200\n",
            " - 0s - loss: 0.2801 - acc: 0.8621\n",
            "Epoch 145/200\n",
            " - 0s - loss: 0.2854 - acc: 0.8607\n",
            "Epoch 146/200\n",
            " - 0s - loss: 0.2907 - acc: 0.8574\n",
            "Epoch 147/200\n",
            " - 0s - loss: 0.2791 - acc: 0.8647\n",
            "Epoch 148/200\n",
            " - 0s - loss: 0.2786 - acc: 0.8627\n",
            "Epoch 149/200\n",
            " - 0s - loss: 0.2809 - acc: 0.8617\n",
            "Epoch 150/200\n",
            " - 0s - loss: 0.2798 - acc: 0.8624\n",
            "Epoch 151/200\n",
            " - 0s - loss: 0.2801 - acc: 0.8650\n",
            "Epoch 152/200\n",
            " - 0s - loss: 0.2804 - acc: 0.8657\n",
            "Epoch 153/200\n",
            " - 0s - loss: 0.2777 - acc: 0.8652\n",
            "Epoch 154/200\n",
            " - 0s - loss: 0.2790 - acc: 0.8627\n",
            "Epoch 155/200\n",
            " - 0s - loss: 0.2796 - acc: 0.8634\n",
            "Epoch 156/200\n",
            " - 0s - loss: 0.2830 - acc: 0.8593\n",
            "Epoch 157/200\n",
            " - 0s - loss: 0.2790 - acc: 0.8631\n",
            "Epoch 158/200\n",
            " - 0s - loss: 0.2786 - acc: 0.8642\n",
            "Epoch 159/200\n",
            " - 0s - loss: 0.2791 - acc: 0.8628\n",
            "Epoch 160/200\n",
            " - 0s - loss: 0.2837 - acc: 0.8627\n",
            "Epoch 161/200\n",
            " - 0s - loss: 0.2781 - acc: 0.8652\n",
            "Epoch 162/200\n",
            " - 0s - loss: 0.2783 - acc: 0.8647\n",
            "Epoch 163/200\n",
            " - 0s - loss: 0.2766 - acc: 0.8659\n",
            "Epoch 164/200\n",
            " - 0s - loss: 0.2800 - acc: 0.8611\n",
            "Epoch 165/200\n",
            " - 0s - loss: 0.2776 - acc: 0.8652\n",
            "Epoch 166/200\n",
            " - 0s - loss: 0.2798 - acc: 0.8627\n",
            "Epoch 167/200\n",
            " - 0s - loss: 0.2783 - acc: 0.8625\n",
            "Epoch 168/200\n",
            " - 0s - loss: 0.2765 - acc: 0.8638\n",
            "Epoch 169/200\n",
            " - 0s - loss: 0.2767 - acc: 0.8667\n",
            "Epoch 170/200\n",
            " - 0s - loss: 0.2776 - acc: 0.8675\n",
            "Epoch 171/200\n",
            " - 0s - loss: 0.2777 - acc: 0.8673\n",
            "Epoch 172/200\n",
            " - 0s - loss: 0.2777 - acc: 0.8650\n",
            "Epoch 173/200\n",
            " - 0s - loss: 0.2767 - acc: 0.8647\n",
            "Epoch 174/200\n",
            " - 0s - loss: 0.2783 - acc: 0.8628\n",
            "Epoch 175/200\n",
            " - 0s - loss: 0.2782 - acc: 0.8641\n",
            "Epoch 176/200\n",
            " - 0s - loss: 0.2747 - acc: 0.8657\n",
            "Epoch 177/200\n",
            " - 0s - loss: 0.2774 - acc: 0.8636\n",
            "Epoch 178/200\n",
            " - 0s - loss: 0.2792 - acc: 0.8643\n",
            "Epoch 179/200\n",
            " - 0s - loss: 0.2757 - acc: 0.8638\n",
            "Epoch 180/200\n",
            " - 0s - loss: 0.2753 - acc: 0.8654\n",
            "Epoch 181/200\n",
            " - 0s - loss: 0.2775 - acc: 0.8643\n",
            "Epoch 182/200\n",
            " - 0s - loss: 0.2792 - acc: 0.8667\n",
            "Epoch 183/200\n",
            " - 0s - loss: 0.2782 - acc: 0.8620\n",
            "Epoch 184/200\n",
            " - 0s - loss: 0.2750 - acc: 0.8688\n",
            "Epoch 185/200\n",
            " - 0s - loss: 0.2769 - acc: 0.8653\n",
            "Epoch 186/200\n",
            " - 0s - loss: 0.2756 - acc: 0.8628\n",
            "Epoch 187/200\n",
            " - 0s - loss: 0.2768 - acc: 0.8639\n",
            "Epoch 188/200\n",
            " - 0s - loss: 0.2741 - acc: 0.8671\n",
            "Epoch 189/200\n",
            " - 0s - loss: 0.2767 - acc: 0.8650\n",
            "Epoch 190/200\n",
            " - 0s - loss: 0.2753 - acc: 0.8661\n",
            "Epoch 191/200\n",
            " - 0s - loss: 0.2762 - acc: 0.8671\n",
            "Epoch 192/200\n",
            " - 0s - loss: 0.2746 - acc: 0.8684\n",
            "Epoch 193/200\n",
            " - 0s - loss: 0.2757 - acc: 0.8632\n",
            "Epoch 194/200\n",
            " - 0s - loss: 0.2880 - acc: 0.8553\n",
            "Epoch 195/200\n",
            " - 0s - loss: 0.2763 - acc: 0.8667\n",
            "Epoch 196/200\n",
            " - 0s - loss: 0.2746 - acc: 0.8652\n",
            "Epoch 197/200\n",
            " - 0s - loss: 0.2771 - acc: 0.8628\n",
            "Epoch 198/200\n",
            " - 0s - loss: 0.2762 - acc: 0.8653\n",
            "Epoch 199/200\n",
            " - 0s - loss: 0.2755 - acc: 0.8671\n",
            "Epoch 200/200\n",
            " - 0s - loss: 0.2760 - acc: 0.8632\n"
          ],
          "name": "stdout"
        },
        {
          "output_type": "execute_result",
          "data": {
            "text/plain": [
              "<keras.callbacks.History at 0x7f8981b12ba8>"
            ]
          },
          "metadata": {
            "tags": []
          },
          "execution_count": 280
        }
      ]
    },
    {
      "cell_type": "code",
      "metadata": {
        "id": "dhSy4CQECDB0",
        "colab_type": "code",
        "outputId": "00990842-ac98-4b94-de80-8ef3cd314e45",
        "colab": {
          "base_uri": "https://localhost:8080/",
          "height": 51
        }
      },
      "source": [
        "# evaluate the keras model\n",
        "_, accuracy = model.evaluate(train_x1, train_y1)\n",
        "print('Accuracy: %.2f' % (accuracy*100))"
      ],
      "execution_count": 0,
      "outputs": [
        {
          "output_type": "stream",
          "text": [
            "1199/1199 [==============================] - 0s 24us/step\n",
            "Accuracy: 86.74\n"
          ],
          "name": "stdout"
        }
      ]
    }
  ]
}